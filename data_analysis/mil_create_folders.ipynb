{
 "cells": [
  {
   "cell_type": "code",
   "execution_count": 2,
   "metadata": {},
   "outputs": [],
   "source": [
    "import os \n",
    "import mne \n",
    "import pandas as pd\n",
    "import matplotlib.pyplot as plt \n",
    "import numpy as np "
   ]
  },
  {
   "cell_type": "code",
   "execution_count": 3,
   "metadata": {},
   "outputs": [
    {
     "name": "stdout",
     "output_type": "stream",
     "text": [
      "['participants.json', 'dataset_description.json', 'participants.tsv', 'CHANGES', 'derivatives', 'README']\n",
      "['sub-075', 'sub-024', 'sub-015', 'sub-028', 'sub-067', 'sub-086', 'sub-035', 'sub-013', 'sub-056', 'sub-021', 'sub-027', 'sub-008', 'sub-010', 'sub-076', 'sub-034', 'sub-078', 'sub-017', 'sub-020', 'sub-070', 'sub-066', 'sub-087', 'sub-063', 'sub-072', 'sub-050', 'sub-029', 'sub-053', 'sub-047', 'sub-084', 'sub-040', 'sub-005', 'sub-054', 'sub-081', 'sub-057', 'sub-052', 'sub-030', 'sub-074', 'sub-080', 'sub-041', 'sub-001', 'sub-060', 'sub-059', 'sub-062', 'sub-055', 'sub-073', 'sub-022', 'sub-018', 'sub-004', 'sub-023', 'sub-011', 'sub-064', 'sub-025', 'sub-009', 'sub-032', 'sub-042', 'sub-083', 'sub-088', 'sub-031', 'sub-069', 'sub-014', 'sub-016', 'sub-065', 'sub-026', 'sub-045', 'sub-071', 'sub-085', 'sub-046', 'sub-006', 'sub-019', 'sub-079', 'sub-048', 'sub-036', 'sub-043', 'sub-082', 'sub-037', 'sub-007', 'sub-039', 'sub-044', 'sub-051', 'sub-038', 'sub-012', 'sub-002', 'sub-068', 'sub-058', 'sub-033', 'sub-061', 'sub-049', 'sub-077', 'sub-003']\n"
     ]
    }
   ],
   "source": [
    "path = \"/home/marta/Documenti/milt_dataset/datatset/participants.tsv\"\n",
    "print(os.listdir(path))\n",
    "print(os.listdir(f\"{path}/derivatives\"))"
   ]
  },
  {
   "cell_type": "code",
   "execution_count": 4,
   "metadata": {},
   "outputs": [],
   "source": [
    "df = pd.read_csv(\"/home/marta/Documenti/milt_dataset/datatset/participants.tsv\",sep=\"\\t\")"
   ]
  },
  {
   "cell_type": "code",
   "execution_count": 5,
   "metadata": {},
   "outputs": [],
   "source": [
    "labels_dict = dict(zip(df['participant_id'], df['Group']))"
   ]
  },
  {
   "cell_type": "code",
   "execution_count": 6,
   "metadata": {},
   "outputs": [],
   "source": [
    "dataset_path = os.path.join(path, \"derivatives\")\n",
    "output_path = \"/home/marta/Documenti/milt_np_dataset\""
   ]
  },
  {
   "cell_type": "code",
   "execution_count": 7,
   "metadata": {},
   "outputs": [
    {
     "name": "stdout",
     "output_type": "stream",
     "text": [
      "sub-075\n",
      "sub-075_task-eyesclosed_eeg.set\n"
     ]
    },
    {
     "name": "stderr",
     "output_type": "stream",
     "text": [
      "/tmp/ipykernel_790734/40812912.py:10: RuntimeWarning: The data contains 'boundary' events, indicating data discontinuities. Be cautious of filtering and epoching around these events.\n",
      "  eeg_raw = mne.io.read_raw_eeglab(file_path, preload=True).get_data()\n"
     ]
    },
    {
     "name": "stdout",
     "output_type": "stream",
     "text": [
      "(19, 374090)\n",
      "sub-024\n",
      "sub-024_task-eyesclosed_eeg.set\n"
     ]
    },
    {
     "name": "stderr",
     "output_type": "stream",
     "text": [
      "/tmp/ipykernel_790734/40812912.py:10: RuntimeWarning: The data contains 'boundary' events, indicating data discontinuities. Be cautious of filtering and epoching around these events.\n",
      "  eeg_raw = mne.io.read_raw_eeglab(file_path, preload=True).get_data()\n"
     ]
    },
    {
     "name": "stdout",
     "output_type": "stream",
     "text": [
      "(19, 379900)\n",
      "sub-015\n",
      "sub-015_task-eyesclosed_eeg.set\n"
     ]
    },
    {
     "name": "stderr",
     "output_type": "stream",
     "text": [
      "/tmp/ipykernel_790734/40812912.py:10: RuntimeWarning: The data contains 'boundary' events, indicating data discontinuities. Be cautious of filtering and epoching around these events.\n",
      "  eeg_raw = mne.io.read_raw_eeglab(file_path, preload=True).get_data()\n"
     ]
    },
    {
     "name": "stdout",
     "output_type": "stream",
     "text": [
      "(19, 450690)\n",
      "sub-028\n",
      "sub-028_task-eyesclosed_eeg.set\n"
     ]
    },
    {
     "name": "stderr",
     "output_type": "stream",
     "text": [
      "/tmp/ipykernel_790734/40812912.py:10: RuntimeWarning: The data contains 'boundary' events, indicating data discontinuities. Be cautious of filtering and epoching around these events.\n",
      "  eeg_raw = mne.io.read_raw_eeglab(file_path, preload=True).get_data()\n"
     ]
    },
    {
     "name": "stdout",
     "output_type": "stream",
     "text": [
      "(19, 409070)\n",
      "sub-067\n",
      "sub-067_task-eyesclosed_eeg.set\n",
      "(19, 321550)\n",
      "sub-086\n",
      "sub-086_task-eyesclosed_eeg.set\n"
     ]
    },
    {
     "name": "stderr",
     "output_type": "stream",
     "text": [
      "/tmp/ipykernel_790734/40812912.py:10: RuntimeWarning: The data contains 'boundary' events, indicating data discontinuities. Be cautious of filtering and epoching around these events.\n",
      "  eeg_raw = mne.io.read_raw_eeglab(file_path, preload=True).get_data()\n"
     ]
    },
    {
     "name": "stdout",
     "output_type": "stream",
     "text": [
      "(19, 289400)\n",
      "sub-035\n",
      "sub-035_task-eyesclosed_eeg.set\n"
     ]
    },
    {
     "name": "stderr",
     "output_type": "stream",
     "text": [
      "/tmp/ipykernel_790734/40812912.py:10: RuntimeWarning: The data contains 'boundary' events, indicating data discontinuities. Be cautious of filtering and epoching around these events.\n",
      "  eeg_raw = mne.io.read_raw_eeglab(file_path, preload=True).get_data()\n"
     ]
    },
    {
     "name": "stdout",
     "output_type": "stream",
     "text": [
      "(19, 370520)\n",
      "sub-013\n",
      "sub-013_task-eyesclosed_eeg.set\n"
     ]
    },
    {
     "name": "stderr",
     "output_type": "stream",
     "text": [
      "/tmp/ipykernel_790734/40812912.py:10: RuntimeWarning: The data contains 'boundary' events, indicating data discontinuities. Be cautious of filtering and epoching around these events.\n",
      "  eeg_raw = mne.io.read_raw_eeglab(file_path, preload=True).get_data()\n"
     ]
    },
    {
     "name": "stdout",
     "output_type": "stream",
     "text": [
      "(19, 419050)\n",
      "sub-056\n",
      "sub-056_task-eyesclosed_eeg.set\n"
     ]
    },
    {
     "name": "stderr",
     "output_type": "stream",
     "text": [
      "/tmp/ipykernel_790734/40812912.py:10: RuntimeWarning: The data contains 'boundary' events, indicating data discontinuities. Be cautious of filtering and epoching around these events.\n",
      "  eeg_raw = mne.io.read_raw_eeglab(file_path, preload=True).get_data()\n"
     ]
    },
    {
     "name": "stdout",
     "output_type": "stream",
     "text": [
      "(19, 395660)\n",
      "sub-021\n",
      "sub-021_task-eyesclosed_eeg.set\n"
     ]
    },
    {
     "name": "stderr",
     "output_type": "stream",
     "text": [
      "/tmp/ipykernel_790734/40812912.py:10: RuntimeWarning: The data contains 'boundary' events, indicating data discontinuities. Be cautious of filtering and epoching around these events.\n",
      "  eeg_raw = mne.io.read_raw_eeglab(file_path, preload=True).get_data()\n"
     ]
    },
    {
     "name": "stdout",
     "output_type": "stream",
     "text": [
      "(19, 460140)\n",
      "sub-027\n",
      "sub-027_task-eyesclosed_eeg.set\n"
     ]
    },
    {
     "name": "stderr",
     "output_type": "stream",
     "text": [
      "/tmp/ipykernel_790734/40812912.py:10: RuntimeWarning: The data contains 'boundary' events, indicating data discontinuities. Be cautious of filtering and epoching around these events.\n",
      "  eeg_raw = mne.io.read_raw_eeglab(file_path, preload=True).get_data()\n"
     ]
    },
    {
     "name": "stdout",
     "output_type": "stream",
     "text": [
      "(19, 413100)\n",
      "sub-008\n",
      "sub-008_task-eyesclosed_eeg.set\n"
     ]
    },
    {
     "name": "stderr",
     "output_type": "stream",
     "text": [
      "/tmp/ipykernel_790734/40812912.py:10: RuntimeWarning: The data contains 'boundary' events, indicating data discontinuities. Be cautious of filtering and epoching around these events.\n",
      "  eeg_raw = mne.io.read_raw_eeglab(file_path, preload=True).get_data()\n"
     ]
    },
    {
     "name": "stdout",
     "output_type": "stream",
     "text": [
      "(19, 396700)\n",
      "sub-010\n",
      "sub-010_task-eyesclosed_eeg.set\n"
     ]
    },
    {
     "name": "stderr",
     "output_type": "stream",
     "text": [
      "/tmp/ipykernel_790734/40812912.py:10: RuntimeWarning: The data contains 'boundary' events, indicating data discontinuities. Be cautious of filtering and epoching around these events.\n",
      "  eeg_raw = mne.io.read_raw_eeglab(file_path, preload=True).get_data()\n"
     ]
    },
    {
     "name": "stdout",
     "output_type": "stream",
     "text": [
      "(19, 640860)\n",
      "sub-076\n",
      "sub-076_task-eyesclosed_eeg.set\n",
      "(19, 409400)\n",
      "sub-034\n",
      "sub-034_task-eyesclosed_eeg.set\n"
     ]
    },
    {
     "name": "stderr",
     "output_type": "stream",
     "text": [
      "/tmp/ipykernel_790734/40812912.py:10: RuntimeWarning: The data contains 'boundary' events, indicating data discontinuities. Be cautious of filtering and epoching around these events.\n",
      "  eeg_raw = mne.io.read_raw_eeglab(file_path, preload=True).get_data()\n"
     ]
    },
    {
     "name": "stdout",
     "output_type": "stream",
     "text": [
      "(19, 484950)\n",
      "sub-078\n",
      "sub-078_task-eyesclosed_eeg.set\n"
     ]
    },
    {
     "name": "stderr",
     "output_type": "stream",
     "text": [
      "/tmp/ipykernel_790734/40812912.py:10: RuntimeWarning: The data contains 'boundary' events, indicating data discontinuities. Be cautious of filtering and epoching around these events.\n",
      "  eeg_raw = mne.io.read_raw_eeglab(file_path, preload=True).get_data()\n"
     ]
    },
    {
     "name": "stdout",
     "output_type": "stream",
     "text": [
      "(19, 435450)\n",
      "sub-017\n",
      "sub-017_task-eyesclosed_eeg.set\n"
     ]
    },
    {
     "name": "stderr",
     "output_type": "stream",
     "text": [
      "/tmp/ipykernel_790734/40812912.py:10: RuntimeWarning: The data contains 'boundary' events, indicating data discontinuities. Be cautious of filtering and epoching around these events.\n",
      "  eeg_raw = mne.io.read_raw_eeglab(file_path, preload=True).get_data()\n"
     ]
    },
    {
     "name": "stdout",
     "output_type": "stream",
     "text": [
      "(19, 421700)\n",
      "sub-020\n",
      "sub-020_task-eyesclosed_eeg.set\n",
      "(19, 434650)\n",
      "sub-070\n",
      "sub-070_task-eyesclosed_eeg.set\n",
      "(19, 239550)\n",
      "sub-066\n",
      "sub-066_task-eyesclosed_eeg.set\n"
     ]
    },
    {
     "name": "stderr",
     "output_type": "stream",
     "text": [
      "/tmp/ipykernel_790734/40812912.py:10: RuntimeWarning: The data contains 'boundary' events, indicating data discontinuities. Be cautious of filtering and epoching around these events.\n",
      "  eeg_raw = mne.io.read_raw_eeglab(file_path, preload=True).get_data()\n"
     ]
    },
    {
     "name": "stdout",
     "output_type": "stream",
     "text": [
      "(19, 274880)\n",
      "sub-087\n",
      "sub-087_task-eyesclosed_eeg.set\n"
     ]
    },
    {
     "name": "stderr",
     "output_type": "stream",
     "text": [
      "/tmp/ipykernel_790734/40812912.py:10: RuntimeWarning: The data contains 'boundary' events, indicating data discontinuities. Be cautious of filtering and epoching around these events.\n",
      "  eeg_raw = mne.io.read_raw_eeglab(file_path, preload=True).get_data()\n"
     ]
    },
    {
     "name": "stdout",
     "output_type": "stream",
     "text": [
      "(19, 301380)\n",
      "sub-063\n",
      "sub-063_task-eyesclosed_eeg.set\n"
     ]
    },
    {
     "name": "stderr",
     "output_type": "stream",
     "text": [
      "/tmp/ipykernel_790734/40812912.py:10: RuntimeWarning: The data contains 'boundary' events, indicating data discontinuities. Be cautious of filtering and epoching around these events.\n",
      "  eeg_raw = mne.io.read_raw_eeglab(file_path, preload=True).get_data()\n"
     ]
    },
    {
     "name": "stdout",
     "output_type": "stream",
     "text": [
      "(19, 402470)\n",
      "sub-072\n",
      "sub-072_task-eyesclosed_eeg.set\n"
     ]
    },
    {
     "name": "stderr",
     "output_type": "stream",
     "text": [
      "/tmp/ipykernel_790734/40812912.py:10: RuntimeWarning: The data contains 'boundary' events, indicating data discontinuities. Be cautious of filtering and epoching around these events.\n",
      "  eeg_raw = mne.io.read_raw_eeglab(file_path, preload=True).get_data()\n"
     ]
    },
    {
     "name": "stdout",
     "output_type": "stream",
     "text": [
      "(19, 328710)\n",
      "sub-050\n",
      "sub-050_task-eyesclosed_eeg.set\n"
     ]
    },
    {
     "name": "stderr",
     "output_type": "stream",
     "text": [
      "/tmp/ipykernel_790734/40812912.py:10: RuntimeWarning: The data contains 'boundary' events, indicating data discontinuities. Be cautious of filtering and epoching around these events.\n",
      "  eeg_raw = mne.io.read_raw_eeglab(file_path, preload=True).get_data()\n"
     ]
    },
    {
     "name": "stdout",
     "output_type": "stream",
     "text": [
      "(19, 408820)\n",
      "sub-029\n",
      "sub-029_task-eyesclosed_eeg.set\n"
     ]
    },
    {
     "name": "stderr",
     "output_type": "stream",
     "text": [
      "/tmp/ipykernel_790734/40812912.py:10: RuntimeWarning: The data contains 'boundary' events, indicating data discontinuities. Be cautious of filtering and epoching around these events.\n",
      "  eeg_raw = mne.io.read_raw_eeglab(file_path, preload=True).get_data()\n"
     ]
    },
    {
     "name": "stdout",
     "output_type": "stream",
     "text": [
      "(19, 368340)\n",
      "sub-053\n",
      "sub-053_task-eyesclosed_eeg.set\n"
     ]
    },
    {
     "name": "stderr",
     "output_type": "stream",
     "text": [
      "/tmp/ipykernel_790734/40812912.py:10: RuntimeWarning: The data contains 'boundary' events, indicating data discontinuities. Be cautious of filtering and epoching around these events.\n",
      "  eeg_raw = mne.io.read_raw_eeglab(file_path, preload=True).get_data()\n"
     ]
    },
    {
     "name": "stdout",
     "output_type": "stream",
     "text": [
      "(19, 390260)\n",
      "sub-047\n",
      "sub-047_task-eyesclosed_eeg.set\n"
     ]
    },
    {
     "name": "stderr",
     "output_type": "stream",
     "text": [
      "/tmp/ipykernel_790734/40812912.py:10: RuntimeWarning: The data contains 'boundary' events, indicating data discontinuities. Be cautious of filtering and epoching around these events.\n",
      "  eeg_raw = mne.io.read_raw_eeglab(file_path, preload=True).get_data()\n"
     ]
    },
    {
     "name": "stdout",
     "output_type": "stream",
     "text": [
      "(19, 403500)\n",
      "sub-084\n",
      "sub-084_task-eyesclosed_eeg.set\n",
      "(19, 326050)\n",
      "sub-040\n",
      "sub-040_task-eyesclosed_eeg.set\n"
     ]
    },
    {
     "name": "stderr",
     "output_type": "stream",
     "text": [
      "/tmp/ipykernel_790734/40812912.py:10: RuntimeWarning: The data contains 'boundary' events, indicating data discontinuities. Be cautious of filtering and epoching around these events.\n",
      "  eeg_raw = mne.io.read_raw_eeglab(file_path, preload=True).get_data()\n"
     ]
    },
    {
     "name": "stdout",
     "output_type": "stream",
     "text": [
      "(19, 482870)\n",
      "sub-005\n",
      "sub-005_task-eyesclosed_eeg.set\n",
      "(19, 402050)\n",
      "sub-054\n",
      "sub-054_task-eyesclosed_eeg.set\n"
     ]
    },
    {
     "name": "stderr",
     "output_type": "stream",
     "text": [
      "/tmp/ipykernel_790734/40812912.py:10: RuntimeWarning: The data contains 'boundary' events, indicating data discontinuities. Be cautious of filtering and epoching around these events.\n",
      "  eeg_raw = mne.io.read_raw_eeglab(file_path, preload=True).get_data()\n"
     ]
    },
    {
     "name": "stdout",
     "output_type": "stream",
     "text": [
      "(19, 418810)\n",
      "sub-081\n",
      "sub-081_task-eyesclosed_eeg.set\n"
     ]
    },
    {
     "name": "stderr",
     "output_type": "stream",
     "text": [
      "/tmp/ipykernel_790734/40812912.py:10: RuntimeWarning: The data contains 'boundary' events, indicating data discontinuities. Be cautious of filtering and epoching around these events.\n",
      "  eeg_raw = mne.io.read_raw_eeglab(file_path, preload=True).get_data()\n"
     ]
    },
    {
     "name": "stdout",
     "output_type": "stream",
     "text": [
      "(19, 412240)\n",
      "sub-057\n",
      "sub-057_task-eyesclosed_eeg.set\n",
      "(19, 398250)\n",
      "sub-052\n",
      "sub-052_task-eyesclosed_eeg.set\n"
     ]
    },
    {
     "name": "stderr",
     "output_type": "stream",
     "text": [
      "/tmp/ipykernel_790734/40812912.py:10: RuntimeWarning: The data contains 'boundary' events, indicating data discontinuities. Be cautious of filtering and epoching around these events.\n",
      "  eeg_raw = mne.io.read_raw_eeglab(file_path, preload=True).get_data()\n"
     ]
    },
    {
     "name": "stdout",
     "output_type": "stream",
     "text": [
      "(19, 380050)\n",
      "sub-030\n",
      "sub-030_task-eyesclosed_eeg.set\n"
     ]
    },
    {
     "name": "stderr",
     "output_type": "stream",
     "text": [
      "/tmp/ipykernel_790734/40812912.py:10: RuntimeWarning: The data contains 'boundary' events, indicating data discontinuities. Be cautious of filtering and epoching around these events.\n",
      "  eeg_raw = mne.io.read_raw_eeglab(file_path, preload=True).get_data()\n"
     ]
    },
    {
     "name": "stdout",
     "output_type": "stream",
     "text": [
      "(19, 277040)\n",
      "sub-074\n",
      "sub-074_task-eyesclosed_eeg.set\n"
     ]
    },
    {
     "name": "stderr",
     "output_type": "stream",
     "text": [
      "/tmp/ipykernel_790734/40812912.py:10: RuntimeWarning: The data contains 'boundary' events, indicating data discontinuities. Be cautious of filtering and epoching around these events.\n",
      "  eeg_raw = mne.io.read_raw_eeglab(file_path, preload=True).get_data()\n"
     ]
    },
    {
     "name": "stdout",
     "output_type": "stream",
     "text": [
      "(19, 507250)\n",
      "sub-080\n",
      "sub-080_task-eyesclosed_eeg.set\n"
     ]
    },
    {
     "name": "stderr",
     "output_type": "stream",
     "text": [
      "/tmp/ipykernel_790734/40812912.py:10: RuntimeWarning: The data contains 'boundary' events, indicating data discontinuities. Be cautious of filtering and epoching around these events.\n",
      "  eeg_raw = mne.io.read_raw_eeglab(file_path, preload=True).get_data()\n"
     ]
    },
    {
     "name": "stdout",
     "output_type": "stream",
     "text": [
      "(19, 457570)\n",
      "sub-041\n",
      "sub-041_task-eyesclosed_eeg.set\n"
     ]
    },
    {
     "name": "stderr",
     "output_type": "stream",
     "text": [
      "/tmp/ipykernel_790734/40812912.py:10: RuntimeWarning: The data contains 'boundary' events, indicating data discontinuities. Be cautious of filtering and epoching around these events.\n",
      "  eeg_raw = mne.io.read_raw_eeglab(file_path, preload=True).get_data()\n"
     ]
    },
    {
     "name": "stdout",
     "output_type": "stream",
     "text": [
      "(19, 443050)\n",
      "sub-001\n",
      "sub-001_task-eyesclosed_eeg.set\n",
      "(19, 299900)\n",
      "sub-060\n",
      "sub-060_task-eyesclosed_eeg.set\n"
     ]
    },
    {
     "name": "stderr",
     "output_type": "stream",
     "text": [
      "/tmp/ipykernel_790734/40812912.py:10: RuntimeWarning: The data contains 'boundary' events, indicating data discontinuities. Be cautious of filtering and epoching around these events.\n",
      "  eeg_raw = mne.io.read_raw_eeglab(file_path, preload=True).get_data()\n"
     ]
    },
    {
     "name": "stdout",
     "output_type": "stream",
     "text": [
      "(19, 374240)\n",
      "sub-059\n",
      "sub-059_task-eyesclosed_eeg.set\n"
     ]
    },
    {
     "name": "stderr",
     "output_type": "stream",
     "text": [
      "/tmp/ipykernel_790734/40812912.py:10: RuntimeWarning: The data contains 'boundary' events, indicating data discontinuities. Be cautious of filtering and epoching around these events.\n",
      "  eeg_raw = mne.io.read_raw_eeglab(file_path, preload=True).get_data()\n"
     ]
    },
    {
     "name": "stdout",
     "output_type": "stream",
     "text": [
      "(19, 393560)\n",
      "sub-062\n",
      "sub-062_task-eyesclosed_eeg.set\n"
     ]
    },
    {
     "name": "stderr",
     "output_type": "stream",
     "text": [
      "/tmp/ipykernel_790734/40812912.py:10: RuntimeWarning: The data contains 'boundary' events, indicating data discontinuities. Be cautious of filtering and epoching around these events.\n",
      "  eeg_raw = mne.io.read_raw_eeglab(file_path, preload=True).get_data()\n"
     ]
    },
    {
     "name": "stdout",
     "output_type": "stream",
     "text": [
      "(19, 449350)\n",
      "sub-055\n",
      "sub-055_task-eyesclosed_eeg.set\n"
     ]
    },
    {
     "name": "stderr",
     "output_type": "stream",
     "text": [
      "/tmp/ipykernel_790734/40812912.py:10: RuntimeWarning: The data contains 'boundary' events, indicating data discontinuities. Be cautious of filtering and epoching around these events.\n",
      "  eeg_raw = mne.io.read_raw_eeglab(file_path, preload=True).get_data()\n"
     ]
    },
    {
     "name": "stdout",
     "output_type": "stream",
     "text": [
      "(19, 407300)\n",
      "sub-073\n",
      "sub-073_task-eyesclosed_eeg.set\n"
     ]
    },
    {
     "name": "stderr",
     "output_type": "stream",
     "text": [
      "/tmp/ipykernel_790734/40812912.py:10: RuntimeWarning: The data contains 'boundary' events, indicating data discontinuities. Be cautious of filtering and epoching around these events.\n",
      "  eeg_raw = mne.io.read_raw_eeglab(file_path, preload=True).get_data()\n"
     ]
    },
    {
     "name": "stdout",
     "output_type": "stream",
     "text": [
      "(19, 427290)\n",
      "sub-022\n",
      "sub-022_task-eyesclosed_eeg.set\n"
     ]
    },
    {
     "name": "stderr",
     "output_type": "stream",
     "text": [
      "/tmp/ipykernel_790734/40812912.py:10: RuntimeWarning: The data contains 'boundary' events, indicating data discontinuities. Be cautious of filtering and epoching around these events.\n",
      "  eeg_raw = mne.io.read_raw_eeglab(file_path, preload=True).get_data()\n"
     ]
    },
    {
     "name": "stdout",
     "output_type": "stream",
     "text": [
      "(19, 410960)\n",
      "sub-018\n",
      "sub-018_task-eyesclosed_eeg.set\n"
     ]
    },
    {
     "name": "stderr",
     "output_type": "stream",
     "text": [
      "/tmp/ipykernel_790734/40812912.py:10: RuntimeWarning: The data contains 'boundary' events, indicating data discontinuities. Be cautious of filtering and epoching around these events.\n",
      "  eeg_raw = mne.io.read_raw_eeglab(file_path, preload=True).get_data()\n"
     ]
    },
    {
     "name": "stdout",
     "output_type": "stream",
     "text": [
      "(19, 422550)\n",
      "sub-004\n",
      "sub-004_task-eyesclosed_eeg.set\n"
     ]
    },
    {
     "name": "stderr",
     "output_type": "stream",
     "text": [
      "/tmp/ipykernel_790734/40812912.py:10: RuntimeWarning: The data contains 'boundary' events, indicating data discontinuities. Be cautious of filtering and epoching around these events.\n",
      "  eeg_raw = mne.io.read_raw_eeglab(file_path, preload=True).get_data()\n"
     ]
    },
    {
     "name": "stdout",
     "output_type": "stream",
     "text": [
      "(19, 353050)\n",
      "sub-023\n",
      "sub-023_task-eyesclosed_eeg.set\n"
     ]
    },
    {
     "name": "stderr",
     "output_type": "stream",
     "text": [
      "/tmp/ipykernel_790734/40812912.py:10: RuntimeWarning: The data contains 'boundary' events, indicating data discontinuities. Be cautious of filtering and epoching around these events.\n",
      "  eeg_raw = mne.io.read_raw_eeglab(file_path, preload=True).get_data()\n"
     ]
    },
    {
     "name": "stdout",
     "output_type": "stream",
     "text": [
      "(19, 417370)\n",
      "sub-011\n",
      "sub-011_task-eyesclosed_eeg.set\n"
     ]
    },
    {
     "name": "stderr",
     "output_type": "stream",
     "text": [
      "/tmp/ipykernel_790734/40812912.py:10: RuntimeWarning: The data contains 'boundary' events, indicating data discontinuities. Be cautious of filtering and epoching around these events.\n",
      "  eeg_raw = mne.io.read_raw_eeglab(file_path, preload=True).get_data()\n"
     ]
    },
    {
     "name": "stdout",
     "output_type": "stream",
     "text": [
      "(19, 384960)\n",
      "sub-064\n",
      "sub-064_task-eyesclosed_eeg.set\n"
     ]
    },
    {
     "name": "stderr",
     "output_type": "stream",
     "text": [
      "/tmp/ipykernel_790734/40812912.py:10: RuntimeWarning: The data contains 'boundary' events, indicating data discontinuities. Be cautious of filtering and epoching around these events.\n",
      "  eeg_raw = mne.io.read_raw_eeglab(file_path, preload=True).get_data()\n"
     ]
    },
    {
     "name": "stdout",
     "output_type": "stream",
     "text": [
      "(19, 424050)\n",
      "sub-025\n",
      "sub-025_task-eyesclosed_eeg.set\n"
     ]
    },
    {
     "name": "stderr",
     "output_type": "stream",
     "text": [
      "/tmp/ipykernel_790734/40812912.py:10: RuntimeWarning: The data contains 'boundary' events, indicating data discontinuities. Be cautious of filtering and epoching around these events.\n",
      "  eeg_raw = mne.io.read_raw_eeglab(file_path, preload=True).get_data()\n"
     ]
    },
    {
     "name": "stdout",
     "output_type": "stream",
     "text": [
      "(19, 342180)\n",
      "sub-009\n",
      "sub-009_task-eyesclosed_eeg.set\n"
     ]
    },
    {
     "name": "stderr",
     "output_type": "stream",
     "text": [
      "/tmp/ipykernel_790734/40812912.py:10: RuntimeWarning: The data contains 'boundary' events, indicating data discontinuities. Be cautious of filtering and epoching around these events.\n",
      "  eeg_raw = mne.io.read_raw_eeglab(file_path, preload=True).get_data()\n"
     ]
    },
    {
     "name": "stdout",
     "output_type": "stream",
     "text": [
      "(19, 306300)\n",
      "sub-032\n",
      "sub-032_task-eyesclosed_eeg.set\n"
     ]
    },
    {
     "name": "stderr",
     "output_type": "stream",
     "text": [
      "/tmp/ipykernel_790734/40812912.py:10: RuntimeWarning: The data contains 'boundary' events, indicating data discontinuities. Be cautious of filtering and epoching around these events.\n",
      "  eeg_raw = mne.io.read_raw_eeglab(file_path, preload=True).get_data()\n"
     ]
    },
    {
     "name": "stdout",
     "output_type": "stream",
     "text": [
      "(19, 398890)\n",
      "sub-042\n",
      "sub-042_task-eyesclosed_eeg.set\n"
     ]
    },
    {
     "name": "stderr",
     "output_type": "stream",
     "text": [
      "/tmp/ipykernel_790734/40812912.py:10: RuntimeWarning: The data contains 'boundary' events, indicating data discontinuities. Be cautious of filtering and epoching around these events.\n",
      "  eeg_raw = mne.io.read_raw_eeglab(file_path, preload=True).get_data()\n"
     ]
    },
    {
     "name": "stdout",
     "output_type": "stream",
     "text": [
      "(19, 481510)\n",
      "sub-083\n",
      "sub-083_task-eyesclosed_eeg.set\n",
      "(19, 456600)\n",
      "sub-088\n",
      "sub-088_task-eyesclosed_eeg.set\n"
     ]
    },
    {
     "name": "stderr",
     "output_type": "stream",
     "text": [
      "/tmp/ipykernel_790734/40812912.py:10: RuntimeWarning: The data contains 'boundary' events, indicating data discontinuities. Be cautious of filtering and epoching around these events.\n",
      "  eeg_raw = mne.io.read_raw_eeglab(file_path, preload=True).get_data()\n"
     ]
    },
    {
     "name": "stdout",
     "output_type": "stream",
     "text": [
      "(19, 392350)\n",
      "sub-031\n",
      "sub-031_task-eyesclosed_eeg.set\n"
     ]
    },
    {
     "name": "stderr",
     "output_type": "stream",
     "text": [
      "/tmp/ipykernel_790734/40812912.py:10: RuntimeWarning: The data contains 'boundary' events, indicating data discontinuities. Be cautious of filtering and epoching around these events.\n",
      "  eeg_raw = mne.io.read_raw_eeglab(file_path, preload=True).get_data()\n"
     ]
    },
    {
     "name": "stdout",
     "output_type": "stream",
     "text": [
      "(19, 575380)\n",
      "sub-069\n",
      "sub-069_task-eyesclosed_eeg.set\n"
     ]
    },
    {
     "name": "stderr",
     "output_type": "stream",
     "text": [
      "/tmp/ipykernel_790734/40812912.py:10: RuntimeWarning: The data contains 'boundary' events, indicating data discontinuities. Be cautious of filtering and epoching around these events.\n",
      "  eeg_raw = mne.io.read_raw_eeglab(file_path, preload=True).get_data()\n"
     ]
    },
    {
     "name": "stdout",
     "output_type": "stream",
     "text": [
      "(19, 318050)\n",
      "sub-014\n",
      "sub-014_task-eyesclosed_eeg.set\n"
     ]
    },
    {
     "name": "stderr",
     "output_type": "stream",
     "text": [
      "/tmp/ipykernel_790734/40812912.py:10: RuntimeWarning: The data contains 'boundary' events, indicating data discontinuities. Be cautious of filtering and epoching around these events.\n",
      "  eeg_raw = mne.io.read_raw_eeglab(file_path, preload=True).get_data()\n"
     ]
    },
    {
     "name": "stdout",
     "output_type": "stream",
     "text": [
      "(19, 467220)\n",
      "sub-016\n",
      "sub-016_task-eyesclosed_eeg.set\n"
     ]
    },
    {
     "name": "stderr",
     "output_type": "stream",
     "text": [
      "/tmp/ipykernel_790734/40812912.py:10: RuntimeWarning: The data contains 'boundary' events, indicating data discontinuities. Be cautious of filtering and epoching around these events.\n",
      "  eeg_raw = mne.io.read_raw_eeglab(file_path, preload=True).get_data()\n"
     ]
    },
    {
     "name": "stdout",
     "output_type": "stream",
     "text": [
      "(19, 486180)\n",
      "sub-065\n",
      "sub-065_task-eyesclosed_eeg.set\n",
      "(19, 442050)\n",
      "sub-026\n",
      "sub-026_task-eyesclosed_eeg.set\n"
     ]
    },
    {
     "name": "stderr",
     "output_type": "stream",
     "text": [
      "/tmp/ipykernel_790734/40812912.py:10: RuntimeWarning: The data contains 'boundary' events, indicating data discontinuities. Be cautious of filtering and epoching around these events.\n",
      "  eeg_raw = mne.io.read_raw_eeglab(file_path, preload=True).get_data()\n"
     ]
    },
    {
     "name": "stdout",
     "output_type": "stream",
     "text": [
      "(19, 449320)\n",
      "sub-045\n",
      "sub-045_task-eyesclosed_eeg.set\n"
     ]
    },
    {
     "name": "stderr",
     "output_type": "stream",
     "text": [
      "/tmp/ipykernel_790734/40812912.py:10: RuntimeWarning: The data contains 'boundary' events, indicating data discontinuities. Be cautious of filtering and epoching around these events.\n",
      "  eeg_raw = mne.io.read_raw_eeglab(file_path, preload=True).get_data()\n"
     ]
    },
    {
     "name": "stdout",
     "output_type": "stream",
     "text": [
      "(19, 425820)\n",
      "sub-071\n",
      "sub-071_task-eyesclosed_eeg.set\n"
     ]
    },
    {
     "name": "stderr",
     "output_type": "stream",
     "text": [
      "/tmp/ipykernel_790734/40812912.py:10: RuntimeWarning: The data contains 'boundary' events, indicating data discontinuities. Be cautious of filtering and epoching around these events.\n",
      "  eeg_raw = mne.io.read_raw_eeglab(file_path, preload=True).get_data()\n"
     ]
    },
    {
     "name": "stdout",
     "output_type": "stream",
     "text": [
      "(19, 309450)\n",
      "sub-085\n",
      "sub-085_task-eyesclosed_eeg.set\n"
     ]
    },
    {
     "name": "stderr",
     "output_type": "stream",
     "text": [
      "/tmp/ipykernel_790734/40812912.py:10: RuntimeWarning: The data contains 'boundary' events, indicating data discontinuities. Be cautious of filtering and epoching around these events.\n",
      "  eeg_raw = mne.io.read_raw_eeglab(file_path, preload=True).get_data()\n"
     ]
    },
    {
     "name": "stdout",
     "output_type": "stream",
     "text": [
      "(19, 280030)\n",
      "sub-046\n",
      "sub-046_task-eyesclosed_eeg.set\n"
     ]
    },
    {
     "name": "stderr",
     "output_type": "stream",
     "text": [
      "/tmp/ipykernel_790734/40812912.py:10: RuntimeWarning: The data contains 'boundary' events, indicating data discontinuities. Be cautious of filtering and epoching around these events.\n",
      "  eeg_raw = mne.io.read_raw_eeglab(file_path, preload=True).get_data()\n"
     ]
    },
    {
     "name": "stdout",
     "output_type": "stream",
     "text": [
      "(19, 376520)\n",
      "sub-006\n",
      "sub-006_task-eyesclosed_eeg.set\n"
     ]
    },
    {
     "name": "stderr",
     "output_type": "stream",
     "text": [
      "/tmp/ipykernel_790734/40812912.py:10: RuntimeWarning: The data contains 'boundary' events, indicating data discontinuities. Be cautious of filtering and epoching around these events.\n",
      "  eeg_raw = mne.io.read_raw_eeglab(file_path, preload=True).get_data()\n"
     ]
    },
    {
     "name": "stdout",
     "output_type": "stream",
     "text": [
      "(19, 316200)\n",
      "sub-019\n",
      "sub-019_task-eyesclosed_eeg.set\n"
     ]
    },
    {
     "name": "stderr",
     "output_type": "stream",
     "text": [
      "/tmp/ipykernel_790734/40812912.py:10: RuntimeWarning: The data contains 'boundary' events, indicating data discontinuities. Be cautious of filtering and epoching around these events.\n",
      "  eeg_raw = mne.io.read_raw_eeglab(file_path, preload=True).get_data()\n"
     ]
    },
    {
     "name": "stdout",
     "output_type": "stream",
     "text": [
      "(19, 459310)\n",
      "sub-079\n",
      "sub-079_task-eyesclosed_eeg.set\n"
     ]
    },
    {
     "name": "stderr",
     "output_type": "stream",
     "text": [
      "/tmp/ipykernel_790734/40812912.py:10: RuntimeWarning: The data contains 'boundary' events, indicating data discontinuities. Be cautious of filtering and epoching around these events.\n",
      "  eeg_raw = mne.io.read_raw_eeglab(file_path, preload=True).get_data()\n"
     ]
    },
    {
     "name": "stdout",
     "output_type": "stream",
     "text": [
      "(19, 408340)\n",
      "sub-048\n",
      "sub-048_task-eyesclosed_eeg.set\n"
     ]
    },
    {
     "name": "stderr",
     "output_type": "stream",
     "text": [
      "/tmp/ipykernel_790734/40812912.py:10: RuntimeWarning: The data contains 'boundary' events, indicating data discontinuities. Be cautious of filtering and epoching around these events.\n",
      "  eeg_raw = mne.io.read_raw_eeglab(file_path, preload=True).get_data()\n"
     ]
    },
    {
     "name": "stdout",
     "output_type": "stream",
     "text": [
      "(19, 494940)\n",
      "sub-036\n",
      "sub-036_task-eyesclosed_eeg.set\n"
     ]
    },
    {
     "name": "stderr",
     "output_type": "stream",
     "text": [
      "/tmp/ipykernel_790734/40812912.py:10: RuntimeWarning: The data contains 'boundary' events, indicating data discontinuities. Be cautious of filtering and epoching around these events.\n",
      "  eeg_raw = mne.io.read_raw_eeglab(file_path, preload=True).get_data()\n"
     ]
    },
    {
     "name": "stdout",
     "output_type": "stream",
     "text": [
      "(19, 420680)\n",
      "sub-043\n",
      "sub-043_task-eyesclosed_eeg.set\n",
      "(19, 414550)\n",
      "sub-082\n",
      "sub-082_task-eyesclosed_eeg.set\n",
      "(19, 388800)\n",
      "sub-037\n",
      "sub-037_task-eyesclosed_eeg.set\n",
      "(19, 388550)\n",
      "sub-007\n",
      "sub-007_task-eyesclosed_eeg.set\n"
     ]
    },
    {
     "name": "stderr",
     "output_type": "stream",
     "text": [
      "/tmp/ipykernel_790734/40812912.py:10: RuntimeWarning: The data contains 'boundary' events, indicating data discontinuities. Be cautious of filtering and epoching around these events.\n",
      "  eeg_raw = mne.io.read_raw_eeglab(file_path, preload=True).get_data()\n"
     ]
    },
    {
     "name": "stdout",
     "output_type": "stream",
     "text": [
      "(19, 383210)\n",
      "sub-039\n",
      "sub-039_task-eyesclosed_eeg.set\n"
     ]
    },
    {
     "name": "stderr",
     "output_type": "stream",
     "text": [
      "/tmp/ipykernel_790734/40812912.py:10: RuntimeWarning: The data contains 'boundary' events, indicating data discontinuities. Be cautious of filtering and epoching around these events.\n",
      "  eeg_raw = mne.io.read_raw_eeglab(file_path, preload=True).get_data()\n"
     ]
    },
    {
     "name": "stdout",
     "output_type": "stream",
     "text": [
      "(19, 425040)\n",
      "sub-044\n",
      "sub-044_task-eyesclosed_eeg.set\n",
      "(19, 440800)\n",
      "sub-051\n",
      "sub-051_task-eyesclosed_eeg.set\n"
     ]
    },
    {
     "name": "stderr",
     "output_type": "stream",
     "text": [
      "/tmp/ipykernel_790734/40812912.py:10: RuntimeWarning: The data contains 'boundary' events, indicating data discontinuities. Be cautious of filtering and epoching around these events.\n",
      "  eeg_raw = mne.io.read_raw_eeglab(file_path, preload=True).get_data()\n"
     ]
    },
    {
     "name": "stdout",
     "output_type": "stream",
     "text": [
      "(19, 376670)\n",
      "sub-038\n",
      "sub-038_task-eyesclosed_eeg.set\n"
     ]
    },
    {
     "name": "stderr",
     "output_type": "stream",
     "text": [
      "/tmp/ipykernel_790734/40812912.py:10: RuntimeWarning: The data contains 'boundary' events, indicating data discontinuities. Be cautious of filtering and epoching around these events.\n",
      "  eeg_raw = mne.io.read_raw_eeglab(file_path, preload=True).get_data()\n"
     ]
    },
    {
     "name": "stdout",
     "output_type": "stream",
     "text": [
      "(19, 445700)\n",
      "sub-012\n",
      "sub-012_task-eyesclosed_eeg.set\n"
     ]
    },
    {
     "name": "stderr",
     "output_type": "stream",
     "text": [
      "/tmp/ipykernel_790734/40812912.py:10: RuntimeWarning: The data contains 'boundary' events, indicating data discontinuities. Be cautious of filtering and epoching around these events.\n",
      "  eeg_raw = mne.io.read_raw_eeglab(file_path, preload=True).get_data()\n"
     ]
    },
    {
     "name": "stdout",
     "output_type": "stream",
     "text": [
      "(19, 441760)\n",
      "sub-002\n",
      "sub-002_task-eyesclosed_eeg.set\n",
      "(19, 396550)\n",
      "sub-068\n",
      "sub-068_task-eyesclosed_eeg.set\n"
     ]
    },
    {
     "name": "stderr",
     "output_type": "stream",
     "text": [
      "/tmp/ipykernel_790734/40812912.py:10: RuntimeWarning: The data contains 'boundary' events, indicating data discontinuities. Be cautious of filtering and epoching around these events.\n",
      "  eeg_raw = mne.io.read_raw_eeglab(file_path, preload=True).get_data()\n"
     ]
    },
    {
     "name": "stdout",
     "output_type": "stream",
     "text": [
      "(19, 286550)\n",
      "sub-058\n",
      "sub-058_task-eyesclosed_eeg.set\n"
     ]
    },
    {
     "name": "stderr",
     "output_type": "stream",
     "text": [
      "/tmp/ipykernel_790734/40812912.py:10: RuntimeWarning: The data contains 'boundary' events, indicating data discontinuities. Be cautious of filtering and epoching around these events.\n",
      "  eeg_raw = mne.io.read_raw_eeglab(file_path, preload=True).get_data()\n"
     ]
    },
    {
     "name": "stdout",
     "output_type": "stream",
     "text": [
      "(19, 378390)\n",
      "sub-033\n",
      "sub-033_task-eyesclosed_eeg.set\n"
     ]
    },
    {
     "name": "stderr",
     "output_type": "stream",
     "text": [
      "/tmp/ipykernel_790734/40812912.py:10: RuntimeWarning: The data contains 'boundary' events, indicating data discontinuities. Be cautious of filtering and epoching around these events.\n",
      "  eeg_raw = mne.io.read_raw_eeglab(file_path, preload=True).get_data()\n"
     ]
    },
    {
     "name": "stdout",
     "output_type": "stream",
     "text": [
      "(19, 352710)\n",
      "sub-061\n",
      "sub-061_task-eyesclosed_eeg.set\n"
     ]
    },
    {
     "name": "stderr",
     "output_type": "stream",
     "text": [
      "/tmp/ipykernel_790734/40812912.py:10: RuntimeWarning: The data contains 'boundary' events, indicating data discontinuities. Be cautious of filtering and epoching around these events.\n",
      "  eeg_raw = mne.io.read_raw_eeglab(file_path, preload=True).get_data()\n"
     ]
    },
    {
     "name": "stdout",
     "output_type": "stream",
     "text": [
      "(19, 401640)\n",
      "sub-049\n",
      "sub-049_task-eyesclosed_eeg.set\n"
     ]
    },
    {
     "name": "stderr",
     "output_type": "stream",
     "text": [
      "/tmp/ipykernel_790734/40812912.py:10: RuntimeWarning: The data contains 'boundary' events, indicating data discontinuities. Be cautious of filtering and epoching around these events.\n",
      "  eeg_raw = mne.io.read_raw_eeglab(file_path, preload=True).get_data()\n"
     ]
    },
    {
     "name": "stdout",
     "output_type": "stream",
     "text": [
      "(19, 390100)\n",
      "sub-077\n",
      "sub-077_task-eyesclosed_eeg.set\n"
     ]
    },
    {
     "name": "stderr",
     "output_type": "stream",
     "text": [
      "/tmp/ipykernel_790734/40812912.py:10: RuntimeWarning: The data contains 'boundary' events, indicating data discontinuities. Be cautious of filtering and epoching around these events.\n",
      "  eeg_raw = mne.io.read_raw_eeglab(file_path, preload=True).get_data()\n"
     ]
    },
    {
     "name": "stdout",
     "output_type": "stream",
     "text": [
      "(19, 349570)\n",
      "sub-003\n",
      "sub-003_task-eyesclosed_eeg.set\n",
      "(19, 153050)\n"
     ]
    },
    {
     "name": "stderr",
     "output_type": "stream",
     "text": [
      "/tmp/ipykernel_790734/40812912.py:10: RuntimeWarning: The data contains 'boundary' events, indicating data discontinuities. Be cautious of filtering and epoching around these events.\n",
      "  eeg_raw = mne.io.read_raw_eeglab(file_path, preload=True).get_data()\n"
     ]
    }
   ],
   "source": [
    "\n",
    "\n",
    "X = []\n",
    "y = []\n",
    "for s in os.listdir(dataset_path):\n",
    "    print(s)\n",
    "\n",
    "    s_path = os.path.join(dataset_path, s, \"eeg\")\n",
    "    for file in os.listdir(s_path):\n",
    "        print(file)\n",
    "        file_path = os.path.join(s_path, file)\n",
    "        eeg_raw = mne.io.read_raw_eeglab(file_path, preload=True).get_data()\n",
    "\n",
    "        print(eeg_raw.shape)\n",
    "\n",
    "        label = labels_dict.get(s,\"NA\")\n",
    "\n",
    "        class_folder = os.path.join(output_path, label)\n",
    "        os.makedirs(class_folder, exist_ok=True)\n",
    "\n",
    "        output_file = os.path.join(class_folder, f\"{s}.npy\")\n",
    "\n",
    "        np.save(output_file, eeg_raw)        \n",
    "    "
   ]
  },
  {
   "cell_type": "code",
   "execution_count": 1,
   "metadata": {},
   "outputs": [
    {
     "ename": "NameError",
     "evalue": "name 'os' is not defined",
     "output_type": "error",
     "traceback": [
      "\u001b[0;31m---------------------------------------------------------------------------\u001b[0m",
      "\u001b[0;31mNameError\u001b[0m                                 Traceback (most recent call last)",
      "\u001b[1;32m/home/marta/Documenti/eeg-ml-thesis/data_analysis/mil_create_folders.ipynb Cell 6\u001b[0m line \u001b[0;36m1\n\u001b[0;32m----> <a href='vscode-notebook-cell:/home/marta/Documenti/eeg-ml-thesis/data_analysis/mil_create_folders.ipynb#W6sZmlsZQ%3D%3D?line=0'>1</a>\u001b[0m os\u001b[39m.\u001b[39mlistdir(output_path)\n",
      "\u001b[0;31mNameError\u001b[0m: name 'os' is not defined"
     ]
    }
   ],
   "source": [
    "os.listdir(output_path)"
   ]
  },
  {
   "cell_type": "code",
   "execution_count": null,
   "metadata": {},
   "outputs": [],
   "source": []
  }
 ],
 "metadata": {
  "kernelspec": {
   "display_name": ".venv",
   "language": "python",
   "name": "python3"
  },
  "language_info": {
   "codemirror_mode": {
    "name": "ipython",
    "version": 3
   },
   "file_extension": ".py",
   "mimetype": "text/x-python",
   "name": "python",
   "nbconvert_exporter": "python",
   "pygments_lexer": "ipython3",
   "version": "3.10.12"
  }
 },
 "nbformat": 4,
 "nbformat_minor": 2
}
