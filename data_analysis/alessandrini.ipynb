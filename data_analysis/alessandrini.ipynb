{
 "cells": [
  {
   "cell_type": "code",
   "execution_count": 3,
   "metadata": {},
   "outputs": [],
   "source": [
    "import os\n",
    "\n",
    "path = \"/home/marta/Documenti/eeg-ml-thesis/\"\n",
    "os.chdir(path)\n",
    "\n",
    "import torch \n",
    "import torch.nn as nn \n",
    "import torch.nn.functional as F\n",
    "import torch.optim as optim \n",
    "from torch.utils.data import Dataset, DataLoader, Subset\n",
    "import numpy as np \n",
    "from sklearn.preprocessing import StandardScaler\n",
    "from sklearn.model_selection import train_test_split\n",
    "import r_pca \n",
    "import scipy.io\n",
    "from tqdm import tqdm\n",
    "import datetime \n",
    "from sklearn.metrics import confusion_matrix, ConfusionMatrixDisplay \n",
    "import matplotlib.pyplot as plt\n"
   ]
  },
  {
   "cell_type": "markdown",
   "metadata": {},
   "source": [
    "### Parameters"
   ]
  },
  {
   "cell_type": "code",
   "execution_count": 4,
   "metadata": {},
   "outputs": [],
   "source": [
    "DATASET_DIR = \"/home/marta/Documenti/eeg_rnn_repo/rnn-eeg-ad/eeg2\"\n",
    "WINDOW = 256\n",
    "OVERLAP = WINDOW // 2 \n",
    "subj_list = (\n",
    "    tuple((f'{i:02d}', 'N') for i in range(1, 16)) +  # normal subjects, S01 to S15\n",
    "    tuple((f'{i:02d}', 'AD') for i in range(1, 21))   # alzheimer's subjects, S01 to S20\n",
    ")\n",
    "\n",
    "input_dim = 16        \n",
    "hidden_dim = 8        \n",
    "output_dim = 2    \n",
    "window_size = 20      \n",
    "dropout_prob = 0.5 \n",
    "device = torch.device(\"cuda\")\n",
    "\n",
    "subjs_test = (0, 1, 15, 16, 17)  \n",
    "test_subject_list = [subj_list[i] for i in subjs_test]\n",
    "train_val_subjects = [subj for i, subj in enumerate(subj_list) if i not in subjs_test]   "
   ]
  },
  {
   "cell_type": "markdown",
   "metadata": {},
   "source": [
    "### Copute Crops"
   ]
  },
  {
   "cell_type": "code",
   "execution_count": 5,
   "metadata": {},
   "outputs": [],
   "source": [
    "\n",
    "def precompute_crops(subject_list, window, overlap, num_columns=16, train_dataset=None):\n",
    "    \n",
    "\n",
    "    if train_dataset == True:\n",
    "        save_dir = \"/home/marta/Documenti/eeg-ml-thesis/alessandrini-train\"\n",
    "        os.makedirs(save_dir, exist_ok=True)\n",
    "    elif train_dataset == False:\n",
    "        save_dir = \"/home/marta/Documenti/eeg-ml-thesis/alessandrini-test\"\n",
    "        os.makedirs(save_dir, exist_ok=True)\n",
    "\n",
    "    for subject_id, category_label in subject_list:\n",
    "        file_path = f\"{DATASET_DIR}/S{subject_id}_{category_label}.npz\"\n",
    "        save_path = f\"{save_dir}/S{subject_id}_{category_label}_crops.npz\"\n",
    "\n",
    "        # if os.path.exists(save_path): \n",
    "        #    print(f\"Skipping {subject_id}, crops already exist.\")\n",
    "        #    continue\n",
    "\n",
    "        eeg = np.load(file_path)['eeg'].T \n",
    "\n",
    "        scaler = StandardScaler()\n",
    "        eeg = scaler.fit_transform(eeg)\n",
    "\n",
    "        num_windows = (len(eeg) - window) // (window - overlap) + 1\n",
    "        x_data = np.empty((num_windows, window, num_columns))\n",
    "\n",
    "        i = 0\n",
    "        for w in range(num_windows):\n",
    "            x_data[w] = eeg[i:i + window]\n",
    "            i += (window - overlap)\n",
    "\n",
    "        y_data = np.full((num_windows, 1), (category_label == 'AD')) \n",
    "\n",
    "        np.savez(save_path, x_data=x_data, y_data=y_data)\n",
    "        # print(f\"Saved crops for {subject_id} at {save_path}\")\n",
    "\n",
    "\n",
    "precompute_crops(train_val_subjects, window=WINDOW, overlap=OVERLAP, train_dataset=True)\n",
    "precompute_crops(test_subject_list, window=WINDOW, overlap=OVERLAP, train_dataset=False)"
   ]
  },
  {
   "cell_type": "markdown",
   "metadata": {},
   "source": [
    "### PCA Functions"
   ]
  },
  {
   "cell_type": "code",
   "execution_count": 6,
   "metadata": {},
   "outputs": [],
   "source": [
    "def split_train_val(dataset, test_size=0.2, random_state=42):\n",
    "    train_indices, val_indices = train_test_split(\n",
    "        range(len(dataset.crops_index)), \n",
    "        test_size=test_size,\n",
    "        random_state=random_state\n",
    "    )\n",
    "    return train_indices, val_indices \n",
    "\n",
    "def pca_reduction(A, tol, comp = 0):\n",
    "  rpca = False\n",
    "  rpca_mu = 0\n",
    "  multiscale_pca = False\n",
    "\n",
    "  assert(len(A.shape) == 2)\n",
    "  dmin = min(A.shape)\n",
    "  if rpca:\n",
    "    r = r_pca.R_pca(A, mu = rpca_mu)\n",
    "    print('Auto tol:', 1e-7 * r.frobenius_norm(r.D), 'used tol:', tol)\n",
    "    print('mu', r.mu, 'lambda', r.lmbda)\n",
    "    L, S = r.fit(tol = tol, max_iter = 10, iter_print = 1)\n",
    "    global norm_s\n",
    "    norm_s = np.linalg.norm(S, ord='fro')  # for debug\n",
    "    print('||A,L,S||:', np.linalg.norm(A, ord='fro'), np.linalg.norm(L, ord='fro'), np.linalg.norm(S, ord='fro'))\n",
    "    #np.savez_compressed('rpca.npz', pre = A, post = L)\n",
    "  elif multiscale_pca:\n",
    "    print('MSPCA...')\n",
    "    #ms = mspca.MultiscalePCA()\n",
    "    #L = ms.fit_transform(A, wavelet_func='sym4', threshold=0.1, scale = True )\n",
    "    print('saving MAT file and calling Matlab...')\n",
    "    scipy.io.savemat('mspca.mat', {'A': A}, do_compression = True)\n",
    "    os.system('matlab -batch \"mspca(\\'mspca.mat\\')\"')\n",
    "    L = scipy.io.loadmat('mspca.mat')['L'] \n",
    "  else:\n",
    "    \n",
    "    L = A\n",
    "  U, lam, V = np.linalg.svd(L, full_matrices = False)  # V is transposed\n",
    "  assert(U.shape == (A.shape[0], dmin) and lam.shape == (dmin,) and V.shape == (dmin, A.shape[1]))\n",
    "  #np.savetxt('singular_values.csv', lam)\n",
    "  lam_trunc = lam[lam > 0.015 * lam[0]]  # magic number\n",
    "  p = comp if comp else len(lam_trunc)\n",
    "  assert(p <= dmin)\n",
    "  #print('PCA truncation', dmin, '->', p)\n",
    "  return L, V.T[:,:p]\n",
    "\n",
    "def reduce_matrix(A, V):\n",
    "  # (N, w, 16) → (N, 16, w) → ((N*16), w) → compute V\n",
    "  # (N, 16, w) * V → transpose again last dimensions\n",
    "  B = np.swapaxes(A, 1, 2)  # (N, 16, w)\n",
    "  C = B.reshape((-1, B.shape[2]))  # ((N*16), w)\n",
    "  if V is None:\n",
    "    L, V = pca_reduction(C, 5e-6, comp = 50)\n",
    "  B = C @ V  # ((N*16), p)\n",
    "  B = B.reshape((A.shape[0], A.shape[2], B.shape[1]))  # (N, 16, p)\n",
    "  return np.swapaxes(B, 1, 2), V  # B = (N, p, 16)\n",
    "\n",
    "def adjust_size(x, y):\n",
    "  # when flattening the data matrix on the first dimension, y must be made compatible\n",
    "  if len(x) == len(y): return y\n",
    "  factor = len(x) // len(y)\n",
    "  ynew = np.empty((len(x), 1))\n",
    "  for i in range(0, len(y)):\n",
    "    ynew[i * factor : (i + 1) * factor] = y[i]\n",
    "  return ynew\n"
   ]
  },
  {
   "cell_type": "markdown",
   "metadata": {},
   "source": [
    "### Oversampling\n",
    "\n",
    "Oversampling only on trainig dataset"
   ]
  },
  {
   "cell_type": "code",
   "execution_count": 7,
   "metadata": {},
   "outputs": [],
   "source": [
    "def oversampling(x_data, y_data, num_classes=2):\n",
    "  # Duplicate inputs with classes occurring less, so to have a more balanced distribution.\n",
    "  # It operates on single data windows, so use it on data that have already been split\n",
    "  #  by subject (typically only on training data).\n",
    "  x_data_over = x_data.copy()\n",
    "  y_data_over = y_data.copy()\n",
    "  occurr = [np.sum(y_data == cl) for cl in range(0, num_classes)]\n",
    "  for cl in range(0, num_classes):\n",
    "    if occurr[cl] == max(occurr):\n",
    "      continue\n",
    "    mask = y_data[:, 0] == cl\n",
    "    x_dup = x_data[mask].copy()\n",
    "    y_dup = y_data[mask].copy()\n",
    "    while occurr[cl] < max(occurr):\n",
    "      x_dup_jitter = x_dup + np.random.normal(scale=0.03, size=x_dup.shape)\n",
    "      how_many = min(len(y_dup), max(occurr) - occurr[cl])\n",
    "      x_data_over = np.vstack((x_data_over, x_dup_jitter[:how_many]))\n",
    "      y_data_over = np.vstack((y_data_over, y_dup[:how_many]))\n",
    "      occurr[cl] += how_many\n",
    "  return x_data_over, y_data_over"
   ]
  },
  {
   "cell_type": "code",
   "execution_count": 8,
   "metadata": {},
   "outputs": [
    {
     "name": "stdout",
     "output_type": "stream",
     "text": [
      "Original dataset size: (40602, 256, 16), Labels distribution: [16290 24312]\n",
      "Oversampled dataset size: (48624, 256, 16), Labels distribution: [24312 24312]\n"
     ]
    }
   ],
   "source": [
    "path = \"/home/marta/Documenti/eeg-ml-thesis/alessandrini-train\"\n",
    "\n",
    "x_all = []\n",
    "y_all = []\n",
    "\n",
    "for file in os.listdir(path):\n",
    "    if file.endswith(\".npz\"):  \n",
    "        file_path = os.path.join(path, file)\n",
    "        data = np.load(file_path)\n",
    "        \n",
    "        x_all.append(data['x_data'])  \n",
    "        y_all.append(data['y_data'])  \n",
    "\n",
    "x_all = np.vstack(x_all)  \n",
    "y_all = np.vstack(y_all)\n",
    "\n",
    "print(f\"Original dataset size: {x_all.shape}, Labels distribution: {np.bincount(y_all.flatten())}\")\n",
    "\n",
    "x_all_over, y_all_over = oversampling(x_all, y_all)\n",
    "\n",
    "print(f\"Oversampled dataset size: {x_all_over.shape}, Labels distribution: {np.bincount(y_all_over.flatten())}\")\n",
    "\n",
    "x_all_over = torch.tensor(x_all_over).float()\n",
    "y_all_over = torch.tensor(y_all_over).float()"
   ]
  },
  {
   "cell_type": "markdown",
   "metadata": {},
   "source": [
    "### Train test split and apply PCA\n",
    "- dovrei poter testare anche per diversi parametri di PCA"
   ]
  },
  {
   "cell_type": "code",
   "execution_count": 9,
   "metadata": {},
   "outputs": [
    {
     "name": "stdout",
     "output_type": "stream",
     "text": [
      "training data shape: torch.Size([36468, 256, 16])\n",
      "training data shape: torch.Size([36468, 1])\n",
      "validation data shape: torch.Size([12156, 256, 16])\n",
      "validation data shape: torch.Size([12156, 1])\n"
     ]
    }
   ],
   "source": [
    "x_data_train, x_data_val, y_data_train, y_data_val = train_test_split(x_all_over, y_all_over, train_size = 0.75, random_state=42, shuffle=True)\n",
    "\n",
    "print(f\"training data shape: {x_data_train.shape}\")\n",
    "print(f\"training data shape: {y_data_train.shape}\")\n",
    "print(f\"validation data shape: {x_data_val.shape}\")\n",
    "print(f\"validation data shape: {y_data_val.shape}\")"
   ]
  },
  {
   "cell_type": "code",
   "execution_count": 10,
   "metadata": {},
   "outputs": [
    {
     "name": "stdout",
     "output_type": "stream",
     "text": [
      "training data shape: torch.Size([36468, 50, 16])\n",
      "training data shape: torch.Size([36468, 1])\n",
      "validation data shape: torch.Size([12156, 50, 16])\n",
      "validation data shape: torch.Size([12156, 1])\n"
     ]
    }
   ],
   "source": [
    "x_data_train, Vpca = reduce_matrix(x_data_train, None)\n",
    "y_data_train = adjust_size(x_data_train, y_data_train)\n",
    "\n",
    "x_data_val, _ = reduce_matrix(x_data_val, Vpca)\n",
    "y_data_val = adjust_size(x_data_val, y_data_val)\n",
    "\n",
    "print(f\"training data shape: {x_data_train.shape}\")\n",
    "print(f\"training data shape: {y_data_train.shape}\")\n",
    "print(f\"validation data shape: {x_data_val.shape}\")\n",
    "print(f\"validation data shape: {y_data_val.shape}\")"
   ]
  },
  {
   "cell_type": "markdown",
   "metadata": {},
   "source": [
    "### Dataset and Dataloader"
   ]
  },
  {
   "cell_type": "code",
   "execution_count": 11,
   "metadata": {},
   "outputs": [],
   "source": [
    "class AlessandriniEegDataset(Dataset):\n",
    "    def __init__(self, x_data, y_data):\n",
    "        self.x_data = x_data\n",
    "        self.y_data = y_data\n",
    "\n",
    "    def __len__(self):\n",
    "        return len(self.x_data)\n",
    "\n",
    "    def __getitem__(self, idx):\n",
    "        return self.x_data[idx], self.y_data[idx]\n",
    "\n",
    "train_dataset = AlessandriniEegDataset(x_data_train, y_data_train)\n",
    "val_dataset = AlessandriniEegDataset(x_data_val, y_data_val)\n",
    "test_dataset = AlessandriniEegDataset(x_data_val, y_data_val)\n",
    "\n",
    "#train_indices, val_indices = split_train_val(dataset_over, test_size=0.2)\n",
    "train_loader = DataLoader(train_dataset, batch_size=32, shuffle=True)\n",
    "val_loader = DataLoader(val_dataset, batch_size=32, shuffle=True)\n",
    "test_loader = DataLoader(test_dataset, batch_size=32, shuffle=True)"
   ]
  },
  {
   "cell_type": "markdown",
   "metadata": {},
   "source": [
    "### RNN model"
   ]
  },
  {
   "cell_type": "code",
   "execution_count": 10,
   "metadata": {},
   "outputs": [],
   "source": [
    "class LSTMModel(nn.Module):\n",
    "    def __init__(self, input_dim, hidden_dim, output_dim, num_layers=1, dropout_prob=0.5):\n",
    "        super(LSTMModel, self).__init__()\n",
    "        \n",
    "        ##TODO aggiungere un layer di flatten per processare la sequenza in maniera temporale \n",
    "        self.lstm1 = nn.LSTM(input_dim, hidden_dim, num_layers=num_layers, batch_first=True)\n",
    "        \n",
    "        self.dropout1 = nn.Dropout(dropout_prob)\n",
    "        \n",
    "        self.lstm2 = nn.LSTM(hidden_dim, hidden_dim, num_layers=num_layers, batch_first=True)\n",
    "        \n",
    "        self.dropout2 = nn.Dropout(dropout_prob)\n",
    "        \n",
    "        self.fc = nn.Linear(hidden_dim, output_dim)\n",
    "\n",
    "    def forward(self, x):\n",
    "        # layer di attivazione\n",
    "        \n",
    "        # x = x.squeeze(0)  \n",
    "        out, (hn, cn) = self.lstm1(x)\n",
    "        \n",
    "        out = self.dropout1(out)\n",
    "        \n",
    "        out, (hn, cn) = self.lstm2(out)\n",
    "        \n",
    "        out = self.dropout2(out[:, -1, :])  \n",
    "        \n",
    "        out = self.fc(out)\n",
    "        \n",
    "        # out = F.log_softmax(out, dim=1) uso la loss cross entropy\n",
    "        \n",
    "        return out"
   ]
  },
  {
   "cell_type": "code",
   "execution_count": 12,
   "metadata": {},
   "outputs": [],
   "source": [
    "class LSTMModel(nn.Module):\n",
    "    def __init__(self, input_dim, hidden_dim, output_dim, num_layers=1, dropout_prob=0.5, use_dense1=False):\n",
    "        super(LSTMModel, self).__init__()\n",
    "        \n",
    "        # Optional Dense Layer Before LSTM (matches TensorFlow's `dense1`)\n",
    "        self.use_dense1 = use_dense1\n",
    "        if use_dense1:\n",
    "            self.dense1 = nn.Linear(input_dim, hidden_dim)\n",
    "        \n",
    "        # First LSTM Layer (returns full sequence if second LSTM exists)\n",
    "        self.lstm1 = nn.LSTM(hidden_dim if use_dense1 else input_dim, hidden_dim, num_layers=num_layers, \n",
    "                             batch_first=True, dropout=dropout_prob if num_layers > 1 else 0, \n",
    "                             bidirectional=False)\n",
    "\n",
    "        self.dropout1 = nn.Dropout(dropout_prob) \n",
    "\n",
    "        # Second LSTM Layer (if present, returns last output)\n",
    "        self.lstm2 = nn.LSTM(hidden_dim, hidden_dim, num_layers=num_layers, batch_first=True, \n",
    "                             dropout=dropout_prob if num_layers > 1 else 0) \n",
    "\n",
    "        self.dropout2 = nn.Dropout(dropout_prob)\n",
    "\n",
    "        # Fully Connected Output Layer (No Softmax, since CrossEntropyLoss expects logits)\n",
    "        self.fc = nn.Linear(hidden_dim, output_dim)\n",
    "\n",
    "    def forward(self, x):\n",
    "        if self.use_dense1:\n",
    "            x = self.dense1(x)\n",
    "        \n",
    "        # First LSTM layer\n",
    "        out, _ = self.lstm1(x)\n",
    "        out = self.dropout1(out)\n",
    "\n",
    "        # Second LSTM layer (keeps last output only)\n",
    "        out, _ = self.lstm2(out)\n",
    "        out = self.dropout2(out[:, -1, :])  # Keep only last timestep\n",
    "        \n",
    "        # Fully connected output\n",
    "        out = self.fc(out)\n",
    "        \n",
    "        return out  # No softmax, since PyTorch's CrossEntropyLoss applies it\n"
   ]
  },
  {
   "cell_type": "markdown",
   "metadata": {},
   "source": [
    "### Training functions"
   ]
  },
  {
   "cell_type": "code",
   "execution_count": 31,
   "metadata": {},
   "outputs": [],
   "source": [
    "def calculate_accuracy(y_pred, y_true):\n",
    "  \n",
    "  correct = (y_pred == y_true).sum().item()\n",
    "  \n",
    "  return correct / y_true.size(0)\n"
   ]
  },
  {
   "cell_type": "code",
   "execution_count": 38,
   "metadata": {},
   "outputs": [],
   "source": [
    "def train(model, device, train_loader, optimizer, epoch):\n",
    "  print(\"starting training loop\")\n",
    "  \n",
    "  \"\"\"\n",
    "  Define Training Step\n",
    "  \"\"\"\n",
    "  \n",
    "  model.train()\n",
    "  \n",
    "  train_loss = 0.0\n",
    "  pred_list = []\n",
    "  gt_list = []\n",
    "  \n",
    "  \n",
    "  for batch_idx, (data, target) in enumerate(tqdm(train_loader)):\n",
    "\n",
    "    data, target = data.to(device), target.to(device)\n",
    "    \n",
    "    optimizer.zero_grad()\n",
    "    output = model(data)\n",
    "    \n",
    "\n",
    "    target = target.squeeze().long()\n",
    "\n",
    "    \n",
    "    criterion = nn.CrossEntropyLoss()\n",
    "    loss = criterion(output, target)\n",
    "    train_loss += loss.item()\n",
    "    loss.backward()\n",
    "    optimizer.step()\n",
    "    \n",
    "    _, y_pred = torch.max(output,1)\n",
    "    \n",
    "    pred_list.append(y_pred)\n",
    "    gt_list.append(target)\n",
    "    \n",
    "  pred_list = torch.cat(pred_list)\n",
    "  gt_list = torch.cat(gt_list)\n",
    "  \n",
    "  train_acc = calculate_accuracy(pred_list, gt_list) \n",
    "  print(\"ended training step\")\n",
    "  return train_loss / len(train_loader), train_acc, pred_list, gt_list \n",
    "\n",
    "def validation(model, device, val_loader):\n",
    "  print(\"starting validation step\")\n",
    "  \n",
    "  \"\"\"\n",
    "  Define Validation Step\n",
    "  \"\"\"\n",
    "    \n",
    "  model.eval()\n",
    "  \n",
    "  val_loss = 0   \n",
    "  pred_list = []\n",
    "  gt_list = []\n",
    "\n",
    "  criterion = nn.CrossEntropyLoss()\n",
    "  \n",
    "  with torch.no_grad():\n",
    "    \n",
    "    for data, target in val_loader:\n",
    "        \n",
    "      data, target = data.to(device), target.to(device).squeeze().long()\n",
    "      output = model(data)\n",
    "      loss = criterion(output, target)\n",
    "      val_loss += loss.item()\n",
    "      _, y_pred = torch.max(output,1)\n",
    "      \n",
    "      pred_list.append(y_pred)\n",
    "      gt_list.append(target)\n",
    "      # correct += pred.eq(target.view_as(pred)).sum().item()\n",
    "      \n",
    "  pred_list = torch.cat(pred_list)\n",
    "  gt_list = torch.cat(gt_list)\n",
    "           \n",
    "  val_acc = calculate_accuracy(pred_list, gt_list)\n",
    "  \n",
    "  \n",
    "  return val_loss / len(val_loader.dataset), val_acc, pred_list, gt_list \n",
    "     \n",
    "\n",
    "def test_and_save_confusion_matrix(model, device, loader):\n",
    "    model.eval()\n",
    "    gt_list = []\n",
    "    pred_list = []\n",
    "    \n",
    "    with torch.no_grad():\n",
    "        for data, target in loader:\n",
    "            data, target = data.to(device), target.to(device).squeeze().long()\n",
    "            output = model(data)\n",
    "            _, y_pred = torch.max(output, 1)  \n",
    "            \n",
    "            pred_list.append(y_pred)\n",
    "            gt_list.append(target)\n",
    "            \n",
    "        pred_list = torch.cat(pred_list)\n",
    "        gt_list = torch.cat(gt_list)\n",
    "        \n",
    "    print(pred_list)\n",
    "    print(gt_list)\n",
    "    test_acc = calculate_accuracy(pred_list, gt_list)\n",
    "    print(f\"Test Accuracy: {test_acc:.2f}%\")    \n",
    "    # Compute confusion matrix\n",
    "    cm = confusion_matrix(gt_list.cpu().numpy(), pred_list.cpu().numpy())\n",
    "    num_classes = cm.shape[0]\n",
    "    disp = ConfusionMatrixDisplay(confusion_matrix=cm, display_labels=np.arange(num_classes))\n",
    "\n",
    "    # Plot and save confusion matrix\n",
    "    disp.plot(cmap='viridis')\n",
    "    plt.title('Confusion Matrix')\n",
    "    plt.savefig('output/confusion_matrix.png')\n",
    "    plt.show()   \n",
    "         \n",
    "def save_model(model, optimizer, epoch):\n",
    "    \"\"\"\n",
    "    Function to save model states for a given epoch.\n",
    "    \"\"\"\n",
    "    \n",
    "    model_name = model.__class__.__name__\n",
    "\n",
    "    model_dir = os.path.join(os.getcwd(), \"output\")\n",
    "    os.makedirs(model_dir, exist_ok=True)  # Creates directory if it doesn't exist\n",
    "\n",
    "    # Generate filename with timestamp\n",
    "    now = datetime.datetime.now().strftime('%Y%m%d_%H%M%S')\n",
    "    path = os.path.join(model_dir, f\"{model_name}_{now}.pth\")  # Add `.pth` for clarity\n",
    "\n",
    "    torch.save({\n",
    "        'epoch': epoch,\n",
    "        'model_state_dict': model.state_dict(),\n",
    "        'optimizer_state_dict': optimizer.state_dict(),\n",
    "    }, path)\n",
    "\n",
    "    print(f\"Model saved to {path}\")\n",
    "\n"
   ]
  },
  {
   "cell_type": "markdown",
   "metadata": {},
   "source": [
    "### Training loop"
   ]
  },
  {
   "cell_type": "code",
   "execution_count": 33,
   "metadata": {},
   "outputs": [
    {
     "name": "stdout",
     "output_type": "stream",
     "text": [
      "Processing epoch number: 1\n",
      "starting training loop\n"
     ]
    },
    {
     "name": "stderr",
     "output_type": "stream",
     "text": [
      "  0%|          | 0/1140 [00:00<?, ?it/s]"
     ]
    },
    {
     "name": "stderr",
     "output_type": "stream",
     "text": [
      "100%|██████████| 1140/1140 [00:07<00:00, 153.57it/s]\n"
     ]
    },
    {
     "name": "stdout",
     "output_type": "stream",
     "text": [
      "ended training step\n",
      "train_preds: tensor([0, 0, 0,  ..., 1, 1, 0], device='cuda:0')\n",
      "train_gts tensor([0, 1, 0,  ..., 1, 1, 0], device='cuda:0')\n",
      "training accuracy: 0.563864209718109\n",
      "starting validation step\n",
      "train_preds: tensor([0, 1, 0,  ..., 1, 0, 0], device='cuda:0')\n",
      "train_gts tensor([1, 1, 0,  ..., 1, 0, 0], device='cuda:0')\n",
      "validation accuracy: 0.7639848634419217\n",
      "Model saved to /home/marta/Documenti/eeg-ml-thesis/output/LSTMModel_20250223_163814.pth\n"
     ]
    }
   ],
   "source": [
    "model = LSTMModel(input_dim, hidden_dim, output_dim, dropout_prob=dropout_prob, use_dense1=False)\n",
    "\n",
    "model = model.to(device)\n",
    "\n",
    "optimizer = optim.Adam(model.parameters(), lr=0.001, betas=(0.9, 0.999))\n",
    "# scheduler = StepLR(optimizer, step_size=1)\n",
    "num_epochs = 2\n",
    "for epoch in range(1, num_epochs):\n",
    "  print(f\"Processing epoch number: {epoch}\")\n",
    "  train_loss, train_acc, train_preds, train_gts = train(model=model, device=device, train_loader=train_loader, optimizer=optimizer, epoch=epoch)\n",
    "\n",
    "  print(f\"train_preds: {train_preds}\")\n",
    "  print(f\"train_gts {train_gts}\")\n",
    "  print(f\"training accuracy: {train_acc}\")\n",
    "\n",
    "  val_loss, val_acc, val_preds, val_gts = validation(model, device, val_loader)\n",
    "  print(f\"train_preds: {val_preds}\")\n",
    "  print(f\"train_gts {val_gts}\")\n",
    "  print(f\"validation accuracy: {val_acc}\")\n",
    "  \n",
    "  save_model(model, optimizer, epoch)  \n"
   ]
  },
  {
   "cell_type": "markdown",
   "metadata": {},
   "source": [
    "### Testing"
   ]
  },
  {
   "cell_type": "code",
   "execution_count": 21,
   "metadata": {},
   "outputs": [],
   "source": [
    "path = \"/home/marta/Documenti/eeg-ml-thesis/alessandrini-test\"\n",
    "\n",
    "x_test_all = []\n",
    "y_test_all = []\n",
    "\n",
    "for file in os.listdir(path):\n",
    "    if file.endswith(\".npz\"):  \n",
    "        file_path = os.path.join(path, file)\n",
    "        data = np.load(file_path)\n",
    "        \n",
    "        x_test_all.append(data['x_data'])  \n",
    "        y_test_all.append(data['y_data'])  \n",
    "\n",
    "x_test_all = np.vstack(x_test_all)\n",
    "y_test_all = np.vstack(y_test_all)\n",
    "\n",
    "\n",
    "x_data_test, _ = reduce_matrix(x_test_all, Vpca.cpu().numpy() if isinstance(Vpca, torch.Tensor) else Vpca)\n",
    "\n",
    "y_data_test = adjust_size(x_data_test, y_test_all)"
   ]
  },
  {
   "cell_type": "code",
   "execution_count": 35,
   "metadata": {},
   "outputs": [
    {
     "name": "stdout",
     "output_type": "stream",
     "text": [
      "tensor([0, 1, 1,  ..., 1, 1, 1], device='cuda:0')\n",
      "tensor([0, 1, 1,  ..., 1, 0, 1], device='cuda:0')\n",
      "Test Accuracy: 0.93%\n"
     ]
    }
   ],
   "source": [
    "def test_and_save_confusion_matrix(model, device, loader):\n",
    "    model.eval()\n",
    "    gt_list = []\n",
    "    pred_list = []\n",
    "    \n",
    "    with torch.no_grad():\n",
    "        for data, target in loader:\n",
    "            data, target = data.to(device), target.to(device).squeeze().long()\n",
    "            output = model(data)\n",
    "            _, y_pred = torch.max(output, 1)  \n",
    "            \n",
    "            pred_list.append(y_pred)\n",
    "            gt_list.append(target)\n",
    "            \n",
    "        pred_list = torch.cat(pred_list)\n",
    "        gt_list = torch.cat(gt_list)\n",
    "        \n",
    "    print(pred_list)\n",
    "    print(gt_list)\n",
    "    test_acc = calculate_accuracy(pred_list, gt_list)\n",
    "    print(f\"Test Accuracy: {test_acc:.2f}%\") \n",
    "  \n",
    "\n",
    "test_and_save_confusion_matrix(model, device, test_loader) \n"
   ]
  },
  {
   "cell_type": "code",
   "execution_count": 39,
   "metadata": {},
   "outputs": [
    {
     "name": "stdout",
     "output_type": "stream",
     "text": [
      "tensor([1, 1, 0,  ..., 0, 1, 0], device='cuda:0')\n",
      "tensor([1, 1, 0,  ..., 0, 1, 0], device='cuda:0')\n",
      "Test Accuracy: 0.93%\n"
     ]
    },
    {
     "data": {
      "image/png": "[encoded data removed]",
      "text/plain": [
       "<Figure size 640x480 with 2 Axes>"
      ]
     },
     "metadata": {},
     "output_type": "display_data"
    }
   ],
   "source": [
    "x_data_test = x_data_test.astype(np.float32)  \n",
    "\n",
    "test_dataset = AlessandriniEegDataset(x_data_test, y_data_test)\n",
    "\n",
    "test_loader = DataLoader(test_dataset, batch_size=32, shuffle=True)\n",
    "\n",
    "test_and_save_confusion_matrix(model, device, test_loader) "
   ]
  }
 ],
 "metadata": {
  "kernelspec": {
   "display_name": ".venv",
   "language": "python",
   "name": "python3"
  },
  "language_info": {
   "codemirror_mode": {
    "name": "ipython",
    "version": 3
   },
   "file_extension": ".py",
   "mimetype": "text/x-python",
   "name": "python",
   "nbconvert_exporter": "python",
   "pygments_lexer": "ipython3",
   "version": "3.10.12"
  }
 },
 "nbformat": 4,
 "nbformat_minor": 2
}
