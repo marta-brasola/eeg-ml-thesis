{
 "cells": [
  {
   "cell_type": "code",
   "execution_count": 1,
   "metadata": {},
   "outputs": [],
   "source": [
    "import os\n",
    "\n",
    "path = \"/home/marta/Documenti/eeg-ml-thesis/\"\n",
    "os.chdir(path)\n",
    "\n",
    "import torch \n",
    "torch.set_num_threads(4) \n",
    "\n",
    "import torch.nn as nn \n",
    "import torch.nn.functional as F\n",
    "import torch.optim as optim \n",
    "from torch.utils.data import Dataset, DataLoader, Subset\n",
    "import numpy as np \n",
    "from sklearn.preprocessing import StandardScaler\n",
    "from sklearn.model_selection import train_test_split\n",
    "import r_pca \n",
    "import scipy.io\n",
    "from tqdm import tqdm\n",
    "import datetime \n",
    "from sklearn.metrics import confusion_matrix, ConfusionMatrixDisplay \n",
    "import matplotlib.pyplot as plt\n",
    "import pandas as pd \n",
    "import csv"
   ]
  },
  {
   "cell_type": "code",
   "execution_count": 2,
   "metadata": {},
   "outputs": [],
   "source": [
    "class LSTMModel(nn.Module):\n",
    "    def __init__(self, input_dim, hidden_dim, output_dim, num_layers=1, dropout_prob=0.5, use_dense1=False):\n",
    "        super(LSTMModel, self).__init__()\n",
    "        \n",
    "        self.use_dense1 = use_dense1\n",
    "        if use_dense1:\n",
    "            self.dense1 = nn.Linear(input_dim, hidden_dim)\n",
    "        \n",
    "        self.lstm1 = nn.LSTM(hidden_dim if use_dense1 else input_dim, hidden_dim, num_layers=num_layers, \n",
    "                             batch_first=True, dropout=dropout_prob if num_layers > 1 else 0, \n",
    "                             bidirectional=False)\n",
    "\n",
    "        self.dropout1 = nn.Dropout(dropout_prob) \n",
    "\n",
    "        self.lstm2 = nn.LSTM(hidden_dim, hidden_dim, num_layers=num_layers, batch_first=True, \n",
    "                             dropout=dropout_prob if num_layers > 1 else 0) \n",
    "\n",
    "        self.dropout2 = nn.Dropout(dropout_prob)\n",
    "\n",
    "        self.fc = nn.Linear(hidden_dim, output_dim)\n",
    "\n",
    "    def forward(self, x):\n",
    "        if self.use_dense1:\n",
    "            x = self.dense1(x)\n",
    "        \n",
    "        # First LSTM layer\n",
    "        out, _ = self.lstm1(x)\n",
    "        out = self.dropout1(out)\n",
    "\n",
    "        # Second LSTM layer (keeps last output only)\n",
    "        out, _ = self.lstm2(out)\n",
    "        out = self.dropout2(out[:, -1, :])  # Keep only last timestep\n",
    "        \n",
    "        # Fully connected output\n",
    "        out = self.fc(out)\n",
    "        \n",
    "        return out  # No softmax, since PyTorch's CrossEntropyLoss applies it\n",
    "\n",
    "def calculate_accuracy(y_pred, y_true):\n",
    "  \n",
    "  correct = (y_pred == y_true).sum().item()\n",
    "  \n",
    "  return correct / y_true.size(0)\n",
    "\n",
    "def train(model, device, train_loader, optimizer, epoch):\n",
    "  print(\"starting training loop\")\n",
    "  \n",
    "  \"\"\"\n",
    "  Define Training Step\n",
    "  \"\"\"\n",
    "  \n",
    "  model.train()\n",
    "  \n",
    "  train_loss = 0.0\n",
    "  pred_list = []\n",
    "  gt_list = []\n",
    "  \n",
    "  \n",
    "  for batch_idx, (data, target) in enumerate(tqdm(train_loader)):\n",
    "\n",
    "    data, target = data.to(device), target.to(device)\n",
    "    \n",
    "    optimizer.zero_grad()\n",
    "    output = model(data)\n",
    "    \n",
    "\n",
    "    target = target.squeeze().long()\n",
    "\n",
    "    \n",
    "    criterion = nn.CrossEntropyLoss()\n",
    "    loss = criterion(output, target)\n",
    "    train_loss += loss.item()\n",
    "    loss.backward()\n",
    "    optimizer.step()\n",
    "    \n",
    "    _, y_pred = torch.max(output,1)\n",
    "    \n",
    "    pred_list.append(y_pred)\n",
    "    gt_list.append(target)\n",
    "    \n",
    "  pred_list = torch.cat(pred_list)\n",
    "  gt_list = torch.cat(gt_list)\n",
    "  \n",
    "  train_acc = calculate_accuracy(pred_list, gt_list) \n",
    "  print(\"ended training step\")\n",
    "  return train_loss / len(train_loader), train_acc, pred_list, gt_list \n",
    "\n",
    "def validation(model, device, val_loader):\n",
    "  print(\"starting validation step\")\n",
    "  \n",
    "  \"\"\"\n",
    "  Define Validation Step\n",
    "  \"\"\"\n",
    "    \n",
    "  model.eval()\n",
    "  \n",
    "  val_loss = 0   \n",
    "  pred_list = []\n",
    "  gt_list = []\n",
    "\n",
    "  criterion = nn.CrossEntropyLoss()\n",
    "  \n",
    "  with torch.no_grad():\n",
    "    \n",
    "    for data, target in val_loader:\n",
    "        \n",
    "      data, target = data.to(device), target.to(device).squeeze().long()\n",
    "      output = model(data)\n",
    "      loss = criterion(output, target)\n",
    "      val_loss += loss.item()\n",
    "      _, y_pred = torch.max(output,1)\n",
    "      \n",
    "      pred_list.append(y_pred)\n",
    "      gt_list.append(target)\n",
    "      # correct += pred.eq(target.view_as(pred)).sum().item()\n",
    "      \n",
    "  pred_list = torch.cat(pred_list)\n",
    "  gt_list = torch.cat(gt_list)\n",
    "           \n",
    "  val_acc = calculate_accuracy(pred_list, gt_list)\n",
    "  \n",
    "  \n",
    "  return val_loss / len(val_loader.dataset), val_acc, pred_list, gt_list \n",
    " \n",
    "def test_and_save_confusion_matrix(model, device, loader,cm_name):\n",
    "    model.eval()\n",
    "    gt_list = []\n",
    "    pred_list = []\n",
    "    \n",
    "    with torch.no_grad():\n",
    "        for data, target in loader:\n",
    "            data, target = data.to(device).to(torch.float32), target.to(device).squeeze().long()\n",
    "            output = model(data).float()\n",
    "            _, y_pred = torch.max(output, 1)  \n",
    "            \n",
    "            pred_list.append(y_pred)\n",
    "            gt_list.append(target)\n",
    "            \n",
    "        pred_list = torch.cat(pred_list)\n",
    "        gt_list = torch.cat(gt_list)\n",
    "      \n",
    "    test_acc = calculate_accuracy(pred_list, gt_list)\n",
    "    print(f\"Test Accuracy: {test_acc:.4f}%\")    \n",
    "    # Compute confusion matrix\n",
    "    cm = confusion_matrix(gt_list.cpu().numpy(), pred_list.cpu().numpy())\n",
    "    num_classes = cm.shape[0]\n",
    "    disp = ConfusionMatrixDisplay(confusion_matrix=cm, display_labels=np.arange(num_classes))\n",
    "\n",
    "    # Plot and save confusion matrix\n",
    "    disp.plot(cmap='Blues')\n",
    "    plt.title('Confusion Matrix')\n",
    "    plt.savefig(f'output-milt/{cm_name}')\n",
    "    plt.show()   \n",
    "         \n",
    "\n",
    "def save_best_model(model, optimizer, epoch, path):\n",
    "    \"\"\"\n",
    "    Saves the best model based on validation loss.\n",
    "    Overwrites the existing file if the new model is better.\n",
    "    \"\"\"\n",
    "    torch.save({\n",
    "        'epoch': epoch,\n",
    "        'model_state_dict': model.state_dict(),\n",
    "        'optimizer_state_dict': optimizer.state_dict(),\n",
    "    }, path)\n",
    "\n",
    "    print(f\"Best model saved to {path}\")"
   ]
  },
  {
   "cell_type": "code",
   "execution_count": 3,
   "metadata": {},
   "outputs": [
    {
     "name": "stdout",
     "output_type": "stream",
     "text": [
      "window: 1000\n",
      "overlap: 250\n",
      "number pca components: 50\n"
     ]
    }
   ],
   "source": [
    "base_path = \"/home/marta/Documenti/data-milt-preprocessed/\"\n",
    "WINDOW = 1000\n",
    "OVERLAP = WINDOW // 4\n",
    "TASK = \"A_vs_C\"\n",
    "# OVERLAP = 0\n",
    "PCA_COMPONENTS = 50\n",
    "num_epochs = 20\n",
    "print(f\"window: {WINDOW}\")\n",
    "print(f\"overlap: {OVERLAP}\")\n",
    "print(f\"number pca components: {PCA_COMPONENTS}\")\n",
    "\n",
    "test_pca_path = os.path.join(base_path, f\"test_w{WINDOW}_ovr{OVERLAP}_pca{PCA_COMPONENTS}_{TASK}\")\n",
    "train_pca_path = os.path.join(base_path, f\"train_w{WINDOW}_ovr{OVERLAP}_pca{PCA_COMPONENTS}_{TASK}\")\n",
    "\n",
    "train_config = f\"config/train_w{WINDOW}_ovr{OVERLAP}_{TASK}.csv\"\n",
    "test_config = f\"config/test_w{WINDOW}_ovr{OVERLAP}_{TASK}.csv\"\n"
   ]
  },
  {
   "cell_type": "code",
   "execution_count": 4,
   "metadata": {},
   "outputs": [
    {
     "name": "stdout",
     "output_type": "stream",
     "text": [
      "torch.Size([32, 50, 19]) torch.Size([32])\n"
     ]
    }
   ],
   "source": [
    "class PrecomputedPCAEeGDataset(Dataset):\n",
    "    def __init__(self, csv_file, precomputed_dir, split=\"train\"):\n",
    "        self.data_info = pd.read_csv(csv_file)\n",
    "        self.data_info = self.data_info[self.data_info[\"split\"] == split].reset_index(drop=True)\n",
    "        self.precomputed_dir = precomputed_dir\n",
    "\n",
    "    def __len__(self):\n",
    "        return len(self.data_info)\n",
    "\n",
    "    def __getitem__(self, idx):\n",
    "        row = self.data_info.iloc[idx]\n",
    "        file_name = os.path.basename(row[\"file_path\"])\n",
    "        file_path = os.path.join(self.precomputed_dir, file_name)  \n",
    "\n",
    "        npz_data = np.load(file_path)\n",
    "        x_data = npz_data[\"x_data\"]  \n",
    "        y_data = npz_data[\"y_data\"]  \n",
    "\n",
    "        x_data = torch.tensor(x_data, dtype=torch.float32).squeeze(0) \n",
    "\n",
    "        y_data = torch.tensor(y_data, dtype=torch.long).squeeze() \n",
    "\n",
    "        return x_data, y_data\n",
    "\n",
    "train_dataset = PrecomputedPCAEeGDataset(csv_file=train_config, precomputed_dir=train_pca_path, split=\"train\")\n",
    "val_dataset = PrecomputedPCAEeGDataset(csv_file=train_config, precomputed_dir=train_pca_path, split=\"val\")\n",
    "test_dataset = PrecomputedPCAEeGDataset(csv_file=test_config, precomputed_dir=test_pca_path)\n",
    "\n",
    "train_loader = DataLoader(train_dataset, batch_size=32, shuffle=True, num_workers=4)\n",
    "val_loader = DataLoader(val_dataset, batch_size=32, shuffle=False,  num_workers=4)\n",
    "test_loader = DataLoader(val_dataset, batch_size=32, shuffle=False,  num_workers=4)\n",
    "\n",
    "\n",
    "for batch_x, batch_y in train_loader:\n",
    "    print(batch_x.shape, batch_y.shape)\n",
    "    break "
   ]
  },
  {
   "cell_type": "code",
   "execution_count": 9,
   "metadata": {},
   "outputs": [
    {
     "name": "stdout",
     "output_type": "stream",
     "text": [
      "\n",
      "Processing epoch number: 1\n",
      "starting training loop\n"
     ]
    },
    {
     "name": "stderr",
     "output_type": "stream",
     "text": [
      "  0%|          | 0/739 [00:00<?, ?it/s]"
     ]
    },
    {
     "name": "stderr",
     "output_type": "stream",
     "text": [
      "100%|██████████| 739/739 [00:09<00:00, 75.49it/s] "
     ]
    },
    {
     "name": "stdout",
     "output_type": "stream",
     "text": [
      "ended training step\n",
      "Training Accuracy: 0.67% - Loss: 0.6154\n",
      "starting validation step\n"
     ]
    },
    {
     "name": "stderr",
     "output_type": "stream",
     "text": [
      "\n"
     ]
    },
    {
     "name": "stdout",
     "output_type": "stream",
     "text": [
      "Validation Accuracy: 0.77% - Loss: 0.0156\n",
      "Best model saved to /home/marta/Documenti/eeg-ml-thesis/output-milt/1000_250_50.pth\n",
      "Best model updated at epoch 1 with loss 0.0156\n",
      "\n",
      "Processing epoch number: 2\n",
      "starting training loop\n"
     ]
    },
    {
     "name": "stderr",
     "output_type": "stream",
     "text": [
      "100%|██████████| 739/739 [00:08<00:00, 82.74it/s] "
     ]
    },
    {
     "name": "stdout",
     "output_type": "stream",
     "text": [
      "ended training step\n",
      "Training Accuracy: 0.77% - Loss: 0.4894\n",
      "starting validation step\n"
     ]
    },
    {
     "name": "stderr",
     "output_type": "stream",
     "text": [
      "\n"
     ]
    },
    {
     "name": "stdout",
     "output_type": "stream",
     "text": [
      "Validation Accuracy: 0.81% - Loss: 0.0131\n",
      "Best model saved to /home/marta/Documenti/eeg-ml-thesis/output-milt/1000_250_50.pth\n",
      "Best model updated at epoch 2 with loss 0.0131\n",
      "\n",
      "Processing epoch number: 3\n",
      "starting training loop\n"
     ]
    },
    {
     "name": "stderr",
     "output_type": "stream",
     "text": [
      "100%|██████████| 739/739 [00:15<00:00, 48.29it/s]"
     ]
    },
    {
     "name": "stdout",
     "output_type": "stream",
     "text": [
      "ended training step\n",
      "Training Accuracy: 0.80% - Loss: 0.4422\n",
      "starting validation step\n"
     ]
    },
    {
     "name": "stderr",
     "output_type": "stream",
     "text": [
      "\n"
     ]
    },
    {
     "name": "stdout",
     "output_type": "stream",
     "text": [
      "Validation Accuracy: 0.83% - Loss: 0.0121\n",
      "Best model saved to /home/marta/Documenti/eeg-ml-thesis/output-milt/1000_250_50.pth\n",
      "Best model updated at epoch 3 with loss 0.0121\n",
      "\n",
      "Processing epoch number: 4\n",
      "starting training loop\n"
     ]
    },
    {
     "name": "stderr",
     "output_type": "stream",
     "text": [
      "100%|██████████| 739/739 [00:21<00:00, 34.84it/s]"
     ]
    },
    {
     "name": "stdout",
     "output_type": "stream",
     "text": [
      "ended training step\n",
      "Training Accuracy: 0.81% - Loss: 0.4199\n",
      "starting validation step\n"
     ]
    },
    {
     "name": "stderr",
     "output_type": "stream",
     "text": [
      "\n"
     ]
    },
    {
     "name": "stdout",
     "output_type": "stream",
     "text": [
      "Validation Accuracy: 0.84% - Loss: 0.0116\n",
      "Best model saved to /home/marta/Documenti/eeg-ml-thesis/output-milt/1000_250_50.pth\n",
      "Best model updated at epoch 4 with loss 0.0116\n",
      "\n",
      "Processing epoch number: 5\n",
      "starting training loop\n"
     ]
    },
    {
     "name": "stderr",
     "output_type": "stream",
     "text": [
      "100%|██████████| 739/739 [00:25<00:00, 29.25it/s]\n"
     ]
    },
    {
     "name": "stdout",
     "output_type": "stream",
     "text": [
      "ended training step\n",
      "Training Accuracy: 0.83% - Loss: 0.3993\n",
      "starting validation step\n",
      "Validation Accuracy: 0.84% - Loss: 0.0109\n",
      "Best model saved to /home/marta/Documenti/eeg-ml-thesis/output-milt/1000_250_50.pth\n",
      "Best model updated at epoch 5 with loss 0.0109\n",
      "\n",
      "Processing epoch number: 6\n",
      "starting training loop\n"
     ]
    },
    {
     "name": "stderr",
     "output_type": "stream",
     "text": [
      "100%|██████████| 739/739 [00:27<00:00, 27.20it/s]"
     ]
    },
    {
     "name": "stdout",
     "output_type": "stream",
     "text": [
      "ended training step\n",
      "Training Accuracy: 0.84% - Loss: 0.3826\n",
      "starting validation step\n"
     ]
    },
    {
     "name": "stderr",
     "output_type": "stream",
     "text": [
      "\n"
     ]
    },
    {
     "name": "stdout",
     "output_type": "stream",
     "text": [
      "Validation Accuracy: 0.84% - Loss: 0.0110\n",
      "\n",
      "Processing epoch number: 7\n",
      "starting training loop\n"
     ]
    },
    {
     "name": "stderr",
     "output_type": "stream",
     "text": [
      "100%|██████████| 739/739 [00:29<00:00, 24.90it/s]"
     ]
    },
    {
     "name": "stdout",
     "output_type": "stream",
     "text": [
      "ended training step\n",
      "Training Accuracy: 0.85% - Loss: 0.3646\n",
      "starting validation step\n"
     ]
    },
    {
     "name": "stderr",
     "output_type": "stream",
     "text": [
      "\n"
     ]
    },
    {
     "name": "stdout",
     "output_type": "stream",
     "text": [
      "Validation Accuracy: 0.86% - Loss: 0.0104\n",
      "Best model saved to /home/marta/Documenti/eeg-ml-thesis/output-milt/1000_250_50.pth\n",
      "Best model updated at epoch 7 with loss 0.0104\n",
      "\n",
      "Processing epoch number: 8\n",
      "starting training loop\n"
     ]
    },
    {
     "name": "stderr",
     "output_type": "stream",
     "text": [
      "100%|██████████| 739/739 [00:29<00:00, 25.46it/s]"
     ]
    },
    {
     "name": "stdout",
     "output_type": "stream",
     "text": [
      "ended training step\n",
      "Training Accuracy: 0.85% - Loss: 0.3571\n",
      "starting validation step\n"
     ]
    },
    {
     "name": "stderr",
     "output_type": "stream",
     "text": [
      "\n"
     ]
    },
    {
     "name": "stdout",
     "output_type": "stream",
     "text": [
      "Validation Accuracy: 0.87% - Loss: 0.0095\n",
      "Best model saved to /home/marta/Documenti/eeg-ml-thesis/output-milt/1000_250_50.pth\n",
      "Best model updated at epoch 8 with loss 0.0095\n",
      "\n",
      "Processing epoch number: 9\n",
      "starting training loop\n"
     ]
    },
    {
     "name": "stderr",
     "output_type": "stream",
     "text": [
      "100%|██████████| 739/739 [00:29<00:00, 25.37it/s]"
     ]
    },
    {
     "name": "stdout",
     "output_type": "stream",
     "text": [
      "ended training step\n",
      "Training Accuracy: 0.86% - Loss: 0.3403\n",
      "starting validation step\n"
     ]
    },
    {
     "name": "stderr",
     "output_type": "stream",
     "text": [
      "\n"
     ]
    },
    {
     "name": "stdout",
     "output_type": "stream",
     "text": [
      "Validation Accuracy: 0.86% - Loss: 0.0100\n",
      "\n",
      "Processing epoch number: 10\n",
      "starting training loop\n"
     ]
    },
    {
     "name": "stderr",
     "output_type": "stream",
     "text": [
      "100%|██████████| 739/739 [00:29<00:00, 24.99it/s]"
     ]
    },
    {
     "name": "stdout",
     "output_type": "stream",
     "text": [
      "ended training step\n",
      "Training Accuracy: 0.86% - Loss: 0.3299\n",
      "starting validation step\n"
     ]
    },
    {
     "name": "stderr",
     "output_type": "stream",
     "text": [
      "\n"
     ]
    },
    {
     "name": "stdout",
     "output_type": "stream",
     "text": [
      "Validation Accuracy: 0.88% - Loss: 0.0087\n",
      "Best model saved to /home/marta/Documenti/eeg-ml-thesis/output-milt/1000_250_50.pth\n",
      "Best model updated at epoch 10 with loss 0.0087\n",
      "\n",
      "Processing epoch number: 11\n",
      "starting training loop\n"
     ]
    },
    {
     "name": "stderr",
     "output_type": "stream",
     "text": [
      "100%|██████████| 739/739 [00:28<00:00, 26.20it/s]"
     ]
    },
    {
     "name": "stdout",
     "output_type": "stream",
     "text": [
      "ended training step\n",
      "Training Accuracy: 0.87% - Loss: 0.3219\n",
      "starting validation step\n"
     ]
    },
    {
     "name": "stderr",
     "output_type": "stream",
     "text": [
      "\n"
     ]
    },
    {
     "name": "stdout",
     "output_type": "stream",
     "text": [
      "Validation Accuracy: 0.89% - Loss: 0.0085\n",
      "Best model saved to /home/marta/Documenti/eeg-ml-thesis/output-milt/1000_250_50.pth\n",
      "Best model updated at epoch 11 with loss 0.0085\n",
      "\n",
      "Processing epoch number: 12\n",
      "starting training loop\n"
     ]
    },
    {
     "name": "stderr",
     "output_type": "stream",
     "text": [
      "100%|██████████| 739/739 [00:28<00:00, 25.50it/s]"
     ]
    },
    {
     "name": "stdout",
     "output_type": "stream",
     "text": [
      "ended training step\n",
      "Training Accuracy: 0.87% - Loss: 0.3102\n",
      "starting validation step\n"
     ]
    },
    {
     "name": "stderr",
     "output_type": "stream",
     "text": [
      "\n"
     ]
    },
    {
     "name": "stdout",
     "output_type": "stream",
     "text": [
      "Validation Accuracy: 0.89% - Loss: 0.0083\n",
      "Best model saved to /home/marta/Documenti/eeg-ml-thesis/output-milt/1000_250_50.pth\n",
      "Best model updated at epoch 12 with loss 0.0083\n",
      "\n",
      "Processing epoch number: 13\n",
      "starting training loop\n"
     ]
    },
    {
     "name": "stderr",
     "output_type": "stream",
     "text": [
      "100%|██████████| 739/739 [00:29<00:00, 25.26it/s]"
     ]
    },
    {
     "name": "stdout",
     "output_type": "stream",
     "text": [
      "ended training step\n",
      "Training Accuracy: 0.87% - Loss: 0.3119\n",
      "starting validation step\n"
     ]
    },
    {
     "name": "stderr",
     "output_type": "stream",
     "text": [
      "\n"
     ]
    },
    {
     "name": "stdout",
     "output_type": "stream",
     "text": [
      "Validation Accuracy: 0.88% - Loss: 0.0087\n",
      "\n",
      "Processing epoch number: 14\n",
      "starting training loop\n"
     ]
    },
    {
     "name": "stderr",
     "output_type": "stream",
     "text": [
      "100%|██████████| 739/739 [00:30<00:00, 24.37it/s]"
     ]
    },
    {
     "name": "stdout",
     "output_type": "stream",
     "text": [
      "ended training step\n",
      "Training Accuracy: 0.88% - Loss: 0.2950\n",
      "starting validation step\n"
     ]
    },
    {
     "name": "stderr",
     "output_type": "stream",
     "text": [
      "\n"
     ]
    },
    {
     "name": "stdout",
     "output_type": "stream",
     "text": [
      "Validation Accuracy: 0.90% - Loss: 0.0078\n",
      "Best model saved to /home/marta/Documenti/eeg-ml-thesis/output-milt/1000_250_50.pth\n",
      "Best model updated at epoch 14 with loss 0.0078\n",
      "\n",
      "Processing epoch number: 15\n",
      "starting training loop\n"
     ]
    },
    {
     "name": "stderr",
     "output_type": "stream",
     "text": [
      "100%|██████████| 739/739 [00:33<00:00, 22.22it/s]"
     ]
    },
    {
     "name": "stdout",
     "output_type": "stream",
     "text": [
      "ended training step\n",
      "Training Accuracy: 0.88% - Loss: 0.2892\n",
      "starting validation step\n"
     ]
    },
    {
     "name": "stderr",
     "output_type": "stream",
     "text": [
      "\n"
     ]
    },
    {
     "name": "stdout",
     "output_type": "stream",
     "text": [
      "Validation Accuracy: 0.88% - Loss: 0.0089\n",
      "\n",
      "Processing epoch number: 16\n",
      "starting training loop\n"
     ]
    },
    {
     "name": "stderr",
     "output_type": "stream",
     "text": [
      "100%|██████████| 739/739 [00:38<00:00, 19.37it/s]"
     ]
    },
    {
     "name": "stdout",
     "output_type": "stream",
     "text": [
      "ended training step\n",
      "Training Accuracy: 0.89% - Loss: 0.2806\n",
      "starting validation step\n"
     ]
    },
    {
     "name": "stderr",
     "output_type": "stream",
     "text": [
      "\n"
     ]
    },
    {
     "name": "stdout",
     "output_type": "stream",
     "text": [
      "Validation Accuracy: 0.90% - Loss: 0.0075\n",
      "Best model saved to /home/marta/Documenti/eeg-ml-thesis/output-milt/1000_250_50.pth\n",
      "Best model updated at epoch 16 with loss 0.0075\n",
      "\n",
      "Processing epoch number: 17\n",
      "starting training loop\n"
     ]
    },
    {
     "name": "stderr",
     "output_type": "stream",
     "text": [
      "100%|██████████| 739/739 [00:30<00:00, 24.19it/s]"
     ]
    },
    {
     "name": "stdout",
     "output_type": "stream",
     "text": [
      "ended training step\n",
      "Training Accuracy: 0.89% - Loss: 0.2766\n",
      "starting validation step\n"
     ]
    },
    {
     "name": "stderr",
     "output_type": "stream",
     "text": [
      "\n"
     ]
    },
    {
     "name": "stdout",
     "output_type": "stream",
     "text": [
      "Validation Accuracy: 0.90% - Loss: 0.0077\n",
      "\n",
      "Processing epoch number: 18\n",
      "starting training loop\n"
     ]
    },
    {
     "name": "stderr",
     "output_type": "stream",
     "text": [
      "100%|██████████| 739/739 [00:21<00:00, 34.28it/s]\n"
     ]
    },
    {
     "name": "stdout",
     "output_type": "stream",
     "text": [
      "ended training step\n",
      "Training Accuracy: 0.89% - Loss: 0.2692\n",
      "starting validation step\n",
      "Validation Accuracy: 0.91% - Loss: 0.0068\n",
      "Best model saved to /home/marta/Documenti/eeg-ml-thesis/output-milt/1000_250_50.pth\n",
      "Best model updated at epoch 18 with loss 0.0068\n",
      "\n",
      "Processing epoch number: 19\n",
      "starting training loop\n"
     ]
    },
    {
     "name": "stderr",
     "output_type": "stream",
     "text": [
      "100%|██████████| 739/739 [00:25<00:00, 28.67it/s]"
     ]
    },
    {
     "name": "stdout",
     "output_type": "stream",
     "text": [
      "ended training step\n",
      "Training Accuracy: 0.90% - Loss: 0.2663\n",
      "starting validation step\n"
     ]
    },
    {
     "name": "stderr",
     "output_type": "stream",
     "text": [
      "\n"
     ]
    },
    {
     "name": "stdout",
     "output_type": "stream",
     "text": [
      "Validation Accuracy: 0.90% - Loss: 0.0074\n",
      "\n",
      "Processing epoch number: 20\n",
      "starting training loop\n"
     ]
    },
    {
     "name": "stderr",
     "output_type": "stream",
     "text": [
      "100%|██████████| 739/739 [00:28<00:00, 25.91it/s]\n"
     ]
    },
    {
     "name": "stdout",
     "output_type": "stream",
     "text": [
      "ended training step\n",
      "Training Accuracy: 0.90% - Loss: 0.2609\n",
      "starting validation step\n",
      "Validation Accuracy: 0.90% - Loss: 0.0073\n",
      "\n",
      "Training history saved at /home/marta/Documenti/eeg-ml-thesis/output-milt/1000_250_50.npy\n",
      "Test Accuracy: 0.8987%\n"
     ]
    },
    {
     "data": {
      "image/png": "[encoded data removed]",
      "text/plain": [
       "<Figure size 640x480 with 2 Axes>"
      ]
     },
     "metadata": {},
     "output_type": "display_data"
    }
   ],
   "source": [
    "# call model and training\n",
    "input_dim = 19        \n",
    "hidden_dim = 8        \n",
    "output_dim = 2    \n",
    "window_size = 20      \n",
    "dropout_prob = 0.5 \n",
    "device = torch.device(\"cuda\")\n",
    "model = LSTMModel(input_dim, hidden_dim, output_dim, dropout_prob=dropout_prob, use_dense1=False)\n",
    "model = model.to(device)\n",
    "optimizer = optim.Adam(model.parameters(), lr=0.001, betas=(0.9, 0.999))\n",
    "# scheduler = StepLR(optimizer, step_size=1)\n",
    "best_val_loss = float('inf')  \n",
    "history = {\n",
    "    \"train_loss\": [],\n",
    "    \"train_acc\": [],\n",
    "    \"val_loss\": [],\n",
    "    \"val_acc\": []\n",
    "}\n",
    "file_name = f\"{WINDOW}_{OVERLAP}_{PCA_COMPONENTS}\"\n",
    "model_name = file_name + \".pth\"\n",
    "best_model_path = os.path.join(os.getcwd(), \"output-milt\", model_name)  \n",
    "for epoch in range(1, num_epochs + 1):\n",
    "    print(f\"\\nProcessing epoch number: {epoch}\")\n",
    "    train_loss, train_acc, train_preds, train_gts = train(model, device, train_loader, optimizer, epoch)\n",
    "    print(f\"Training Accuracy: {train_acc:.2f}% - Loss: {train_loss:.4f}\")\n",
    "    val_loss, val_acc, val_preds, val_gts = validation(model, device, val_loader)\n",
    "    print(f\"Validation Accuracy: {val_acc:.2f}% - Loss: {val_loss:.4f}\")\n",
    "    history[\"train_loss\"].append(train_loss)\n",
    "    history[\"train_acc\"].append(train_acc)\n",
    "    history[\"val_loss\"].append(val_loss)\n",
    "    history[\"val_acc\"].append(val_acc)\n",
    "    if val_loss < best_val_loss:\n",
    "        best_val_loss = val_loss\n",
    "        save_best_model(model, optimizer, epoch, best_model_path)\n",
    "        print(f\"Best model updated at epoch {epoch} with loss {best_val_loss:.4f}\")\n",
    "# Save training history\n",
    "history_name = file_name + \".npy\"\n",
    "history_file = os.path.join(os.getcwd(), \"output-milt\", history_name)\n",
    "np.save(history_file, history)\n",
    "print(f\"\\nTraining history saved at {history_file}\")\n",
    "cm_name = file_name + \".png\"\n",
    "test_and_save_confusion_matrix(model, device, test_loader, cm_name = cm_name)"
   ]
  }
 ],
 "metadata": {
  "kernelspec": {
   "display_name": ".venv",
   "language": "python",
   "name": "python3"
  },
  "language_info": {
   "codemirror_mode": {
    "name": "ipython",
    "version": 3
   },
   "file_extension": ".py",
   "mimetype": "text/x-python",
   "name": "python",
   "nbconvert_exporter": "python",
   "pygments_lexer": "ipython3",
   "version": "3.10.12"
  }
 },
 "nbformat": 4,
 "nbformat_minor": 2
}
